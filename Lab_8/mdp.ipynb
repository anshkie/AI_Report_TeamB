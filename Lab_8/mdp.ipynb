{
  "cells": [
    {
      "cell_type": "code",
      "execution_count": null,
      "metadata": {
        "id": "Pv_rzLFEZUpU"
      },
      "outputs": [],
      "source": [
        "from mdp import *\n",
        "from notebook import psource, pseudocode, plot_pomdp_utility"
      ]
    },
    {
      "cell_type": "code",
      "execution_count": null,
      "metadata": {
        "id": "W2Vq4rdZZUpY",
        "outputId": "e6821f6d-0999-4a95-e4d4-3b25a334142f"
      },
      "outputs": [
        {
          "data": {
            "text/html": [
              "<!DOCTYPE html PUBLIC \"-//W3C//DTD HTML 4.01//EN\"\n",
              "   \"http://www.w3.org/TR/html4/strict.dtd\">\n",
              "\n",
              "<html>\n",
              "<head>\n",
              "  <title></title>\n",
              "  <meta http-equiv=\"content-type\" content=\"text/html; charset=None\">\n",
              "  <style type=\"text/css\">\n",
              "td.linenos { background-color: #f0f0f0; padding-right: 10px; }\n",
              "span.lineno { background-color: #f0f0f0; padding: 0 5px 0 5px; }\n",
              "pre { line-height: 125%; }\n",
              "body .hll { background-color: #ffffcc }\n",
              "body  { background: #f8f8f8; }\n",
              "body .c { color: #408080; font-style: italic } /* Comment */\n",
              "body .err { border: 1px solid #FF0000 } /* Error */\n",
              "body .k { color: #008000; font-weight: bold } /* Keyword */\n",
              "body .o { color: #666666 } /* Operator */\n",
              "body .ch { color: #408080; font-style: italic } /* Comment.Hashbang */\n",
              "body .cm { color: #408080; font-style: italic } /* Comment.Multiline */\n",
              "body .cp { color: #BC7A00 } /* Comment.Preproc */\n",
              "body .cpf { color: #408080; font-style: italic } /* Comment.PreprocFile */\n",
              "body .c1 { color: #408080; font-style: italic } /* Comment.Single */\n",
              "body .cs { color: #408080; font-style: italic } /* Comment.Special */\n",
              "body .gd { color: #A00000 } /* Generic.Deleted */\n",
              "body .ge { font-style: italic } /* Generic.Emph */\n",
              "body .gr { color: #FF0000 } /* Generic.Error */\n",
              "body .gh { color: #000080; font-weight: bold } /* Generic.Heading */\n",
              "body .gi { color: #00A000 } /* Generic.Inserted */\n",
              "body .go { color: #888888 } /* Generic.Output */\n",
              "body .gp { color: #000080; font-weight: bold } /* Generic.Prompt */\n",
              "body .gs { font-weight: bold } /* Generic.Strong */\n",
              "body .gu { color: #800080; font-weight: bold } /* Generic.Subheading */\n",
              "body .gt { color: #0044DD } /* Generic.Traceback */\n",
              "body .kc { color: #008000; font-weight: bold } /* Keyword.Constant */\n",
              "body .kd { color: #008000; font-weight: bold } /* Keyword.Declaration */\n",
              "body .kn { color: #008000; font-weight: bold } /* Keyword.Namespace */\n",
              "body .kp { color: #008000 } /* Keyword.Pseudo */\n",
              "body .kr { color: #008000; font-weight: bold } /* Keyword.Reserved */\n",
              "body .kt { color: #B00040 } /* Keyword.Type */\n",
              "body .m { color: #666666 } /* Literal.Number */\n",
              "body .s { color: #BA2121 } /* Literal.String */\n",
              "body .na { color: #7D9029 } /* Name.Attribute */\n",
              "body .nb { color: #008000 } /* Name.Builtin */\n",
              "body .nc { color: #0000FF; font-weight: bold } /* Name.Class */\n",
              "body .no { color: #880000 } /* Name.Constant */\n",
              "body .nd { color: #AA22FF } /* Name.Decorator */\n",
              "body .ni { color: #999999; font-weight: bold } /* Name.Entity */\n",
              "body .ne { color: #D2413A; font-weight: bold } /* Name.Exception */\n",
              "body .nf { color: #0000FF } /* Name.Function */\n",
              "body .nl { color: #A0A000 } /* Name.Label */\n",
              "body .nn { color: #0000FF; font-weight: bold } /* Name.Namespace */\n",
              "body .nt { color: #008000; font-weight: bold } /* Name.Tag */\n",
              "body .nv { color: #19177C } /* Name.Variable */\n",
              "body .ow { color: #AA22FF; font-weight: bold } /* Operator.Word */\n",
              "body .w { color: #bbbbbb } /* Text.Whitespace */\n",
              "body .mb { color: #666666 } /* Literal.Number.Bin */\n",
              "body .mf { color: #666666 } /* Literal.Number.Float */\n",
              "body .mh { color: #666666 } /* Literal.Number.Hex */\n",
              "body .mi { color: #666666 } /* Literal.Number.Integer */\n",
              "body .mo { color: #666666 } /* Literal.Number.Oct */\n",
              "body .sa { color: #BA2121 } /* Literal.String.Affix */\n",
              "body .sb { color: #BA2121 } /* Literal.String.Backtick */\n",
              "body .sc { color: #BA2121 } /* Literal.String.Char */\n",
              "body .dl { color: #BA2121 } /* Literal.String.Delimiter */\n",
              "body .sd { color: #BA2121; font-style: italic } /* Literal.String.Doc */\n",
              "body .s2 { color: #BA2121 } /* Literal.String.Double */\n",
              "body .se { color: #BB6622; font-weight: bold } /* Literal.String.Escape */\n",
              "body .sh { color: #BA2121 } /* Literal.String.Heredoc */\n",
              "body .si { color: #BB6688; font-weight: bold } /* Literal.String.Interpol */\n",
              "body .sx { color: #008000 } /* Literal.String.Other */\n",
              "body .sr { color: #BB6688 } /* Literal.String.Regex */\n",
              "body .s1 { color: #BA2121 } /* Literal.String.Single */\n",
              "body .ss { color: #19177C } /* Literal.String.Symbol */\n",
              "body .bp { color: #008000 } /* Name.Builtin.Pseudo */\n",
              "body .fm { color: #0000FF } /* Name.Function.Magic */\n",
              "body .vc { color: #19177C } /* Name.Variable.Class */\n",
              "body .vg { color: #19177C } /* Name.Variable.Global */\n",
              "body .vi { color: #19177C } /* Name.Variable.Instance */\n",
              "body .vm { color: #19177C } /* Name.Variable.Magic */\n",
              "body .il { color: #666666 } /* Literal.Number.Integer.Long */\n",
              "\n",
              "  </style>\n",
              "</head>\n",
              "<body>\n",
              "<h2></h2>\n",
              "\n",
              "<div class=\"highlight\"><pre><span></span><span class=\"k\">class</span> <span class=\"nc\">MDP</span><span class=\"p\">:</span>\n",
              "\n",
              "    <span class=\"sd\">&quot;&quot;&quot;A Markov Decision Process, defined by an initial state, transition model,</span>\n",
              "<span class=\"sd\">    and reward function. We also keep track of a gamma value, for use by</span>\n",
              "<span class=\"sd\">    algorithms. The transition model is represented somewhat differently from</span>\n",
              "<span class=\"sd\">    the text. Instead of P(s&#39; | s, a) being a probability number for each</span>\n",
              "<span class=\"sd\">    state/state/action triplet, we instead have T(s, a) return a</span>\n",
              "<span class=\"sd\">    list of (p, s&#39;) pairs. We also keep track of the possible states,</span>\n",
              "<span class=\"sd\">    terminal states, and actions for each state. [page 646]&quot;&quot;&quot;</span>\n",
              "\n",
              "    <span class=\"k\">def</span> <span class=\"fm\">__init__</span><span class=\"p\">(</span><span class=\"bp\">self</span><span class=\"p\">,</span> <span class=\"n\">init</span><span class=\"p\">,</span> <span class=\"n\">actlist</span><span class=\"p\">,</span> <span class=\"n\">terminals</span><span class=\"p\">,</span> <span class=\"n\">transitions</span> <span class=\"o\">=</span> <span class=\"p\">{},</span> <span class=\"n\">reward</span> <span class=\"o\">=</span> <span class=\"bp\">None</span><span class=\"p\">,</span> <span class=\"n\">states</span><span class=\"o\">=</span><span class=\"bp\">None</span><span class=\"p\">,</span> <span class=\"n\">gamma</span><span class=\"o\">=.</span><span class=\"mi\">9</span><span class=\"p\">):</span>\n",
              "        <span class=\"k\">if</span> <span class=\"ow\">not</span> <span class=\"p\">(</span><span class=\"mi\">0</span> <span class=\"o\">&lt;</span> <span class=\"n\">gamma</span> <span class=\"o\">&lt;=</span> <span class=\"mi\">1</span><span class=\"p\">):</span>\n",
              "            <span class=\"k\">raise</span> <span class=\"ne\">ValueError</span><span class=\"p\">(</span><span class=\"s2\">&quot;An MDP must have 0 &lt; gamma &lt;= 1&quot;</span><span class=\"p\">)</span>\n",
              "\n",
              "        <span class=\"k\">if</span> <span class=\"n\">states</span><span class=\"p\">:</span>\n",
              "            <span class=\"bp\">self</span><span class=\"o\">.</span><span class=\"n\">states</span> <span class=\"o\">=</span> <span class=\"n\">states</span>\n",
              "        <span class=\"k\">else</span><span class=\"p\">:</span>\n",
              "            <span class=\"c1\">## collect states from transitions table</span>\n",
              "            <span class=\"bp\">self</span><span class=\"o\">.</span><span class=\"n\">states</span> <span class=\"o\">=</span> <span class=\"bp\">self</span><span class=\"o\">.</span><span class=\"n\">get_states_from_transitions</span><span class=\"p\">(</span><span class=\"n\">transitions</span><span class=\"p\">)</span>\n",
              "            \n",
              "        \n",
              "        <span class=\"bp\">self</span><span class=\"o\">.</span><span class=\"n\">init</span> <span class=\"o\">=</span> <span class=\"n\">init</span>\n",
              "        \n",
              "        <span class=\"k\">if</span> <span class=\"nb\">isinstance</span><span class=\"p\">(</span><span class=\"n\">actlist</span><span class=\"p\">,</span> <span class=\"nb\">list</span><span class=\"p\">):</span>\n",
              "            <span class=\"c1\">## if actlist is a list, all states have the same actions</span>\n",
              "            <span class=\"bp\">self</span><span class=\"o\">.</span><span class=\"n\">actlist</span> <span class=\"o\">=</span> <span class=\"n\">actlist</span>\n",
              "        <span class=\"k\">elif</span> <span class=\"nb\">isinstance</span><span class=\"p\">(</span><span class=\"n\">actlist</span><span class=\"p\">,</span> <span class=\"nb\">dict</span><span class=\"p\">):</span>\n",
              "            <span class=\"c1\">## if actlist is a dict, different actions for each state</span>\n",
              "            <span class=\"bp\">self</span><span class=\"o\">.</span><span class=\"n\">actlist</span> <span class=\"o\">=</span> <span class=\"n\">actlist</span>\n",
              "        \n",
              "        <span class=\"bp\">self</span><span class=\"o\">.</span><span class=\"n\">terminals</span> <span class=\"o\">=</span> <span class=\"n\">terminals</span>\n",
              "        <span class=\"bp\">self</span><span class=\"o\">.</span><span class=\"n\">transitions</span> <span class=\"o\">=</span> <span class=\"n\">transitions</span>\n",
              "        <span class=\"k\">if</span> <span class=\"bp\">self</span><span class=\"o\">.</span><span class=\"n\">transitions</span> <span class=\"o\">==</span> <span class=\"p\">{}:</span>\n",
              "            <span class=\"k\">print</span><span class=\"p\">(</span><span class=\"s2\">&quot;Warning: Transition table is empty.&quot;</span><span class=\"p\">)</span>\n",
              "        <span class=\"bp\">self</span><span class=\"o\">.</span><span class=\"n\">gamma</span> <span class=\"o\">=</span> <span class=\"n\">gamma</span>\n",
              "        <span class=\"k\">if</span> <span class=\"n\">reward</span><span class=\"p\">:</span>\n",
              "            <span class=\"bp\">self</span><span class=\"o\">.</span><span class=\"n\">reward</span> <span class=\"o\">=</span> <span class=\"n\">reward</span>\n",
              "        <span class=\"k\">else</span><span class=\"p\">:</span>\n",
              "            <span class=\"bp\">self</span><span class=\"o\">.</span><span class=\"n\">reward</span> <span class=\"o\">=</span> <span class=\"p\">{</span><span class=\"n\">s</span> <span class=\"p\">:</span> <span class=\"mi\">0</span> <span class=\"k\">for</span> <span class=\"n\">s</span> <span class=\"ow\">in</span> <span class=\"bp\">self</span><span class=\"o\">.</span><span class=\"n\">states</span><span class=\"p\">}</span>\n",
              "        <span class=\"c1\">#self.check_consistency()</span>\n",
              "\n",
              "    <span class=\"k\">def</span> <span class=\"nf\">R</span><span class=\"p\">(</span><span class=\"bp\">self</span><span class=\"p\">,</span> <span class=\"n\">state</span><span class=\"p\">):</span>\n",
              "        <span class=\"sd\">&quot;&quot;&quot;Return a numeric reward for this state.&quot;&quot;&quot;</span>\n",
              "        <span class=\"k\">return</span> <span class=\"bp\">self</span><span class=\"o\">.</span><span class=\"n\">reward</span><span class=\"p\">[</span><span class=\"n\">state</span><span class=\"p\">]</span>\n",
              "\n",
              "    <span class=\"k\">def</span> <span class=\"nf\">T</span><span class=\"p\">(</span><span class=\"bp\">self</span><span class=\"p\">,</span> <span class=\"n\">state</span><span class=\"p\">,</span> <span class=\"n\">action</span><span class=\"p\">):</span>\n",
              "        <span class=\"sd\">&quot;&quot;&quot;Transition model. From a state and an action, return a list</span>\n",
              "<span class=\"sd\">        of (probability, result-state) pairs.&quot;&quot;&quot;</span>\n",
              "        <span class=\"k\">if</span><span class=\"p\">(</span><span class=\"bp\">self</span><span class=\"o\">.</span><span class=\"n\">transitions</span> <span class=\"o\">==</span> <span class=\"p\">{}):</span>\n",
              "            <span class=\"k\">raise</span> <span class=\"ne\">ValueError</span><span class=\"p\">(</span><span class=\"s2\">&quot;Transition model is missing&quot;</span><span class=\"p\">)</span>\n",
              "        <span class=\"k\">else</span><span class=\"p\">:</span>\n",
              "            <span class=\"k\">return</span> <span class=\"bp\">self</span><span class=\"o\">.</span><span class=\"n\">transitions</span><span class=\"p\">[</span><span class=\"n\">state</span><span class=\"p\">][</span><span class=\"n\">action</span><span class=\"p\">]</span>\n",
              "\n",
              "    <span class=\"k\">def</span> <span class=\"nf\">actions</span><span class=\"p\">(</span><span class=\"bp\">self</span><span class=\"p\">,</span> <span class=\"n\">state</span><span class=\"p\">):</span>\n",
              "        <span class=\"sd\">&quot;&quot;&quot;Set of actions that can be performed in this state. By default, a</span>\n",
              "<span class=\"sd\">        fixed list of actions, except for terminal states. Override this</span>\n",
              "<span class=\"sd\">        method if you need to specialize by state.&quot;&quot;&quot;</span>\n",
              "        <span class=\"k\">if</span> <span class=\"n\">state</span> <span class=\"ow\">in</span> <span class=\"bp\">self</span><span class=\"o\">.</span><span class=\"n\">terminals</span><span class=\"p\">:</span>\n",
              "            <span class=\"k\">return</span> <span class=\"p\">[</span><span class=\"bp\">None</span><span class=\"p\">]</span>\n",
              "        <span class=\"k\">else</span><span class=\"p\">:</span>\n",
              "            <span class=\"k\">return</span> <span class=\"bp\">self</span><span class=\"o\">.</span><span class=\"n\">actlist</span>\n",
              "\n",
              "    <span class=\"k\">def</span> <span class=\"nf\">get_states_from_transitions</span><span class=\"p\">(</span><span class=\"bp\">self</span><span class=\"p\">,</span> <span class=\"n\">transitions</span><span class=\"p\">):</span>\n",
              "        <span class=\"k\">if</span> <span class=\"nb\">isinstance</span><span class=\"p\">(</span><span class=\"n\">transitions</span><span class=\"p\">,</span> <span class=\"nb\">dict</span><span class=\"p\">):</span>\n",
              "            <span class=\"n\">s1</span> <span class=\"o\">=</span> <span class=\"nb\">set</span><span class=\"p\">(</span><span class=\"n\">transitions</span><span class=\"o\">.</span><span class=\"n\">keys</span><span class=\"p\">())</span>\n",
              "            <span class=\"n\">s2</span> <span class=\"o\">=</span> <span class=\"nb\">set</span><span class=\"p\">([</span><span class=\"n\">tr</span><span class=\"p\">[</span><span class=\"mi\">1</span><span class=\"p\">]</span> <span class=\"k\">for</span> <span class=\"n\">actions</span> <span class=\"ow\">in</span> <span class=\"n\">transitions</span><span class=\"o\">.</span><span class=\"n\">values</span><span class=\"p\">()</span> \n",
              "                              <span class=\"k\">for</span> <span class=\"n\">effects</span> <span class=\"ow\">in</span> <span class=\"n\">actions</span><span class=\"o\">.</span><span class=\"n\">values</span><span class=\"p\">()</span> <span class=\"k\">for</span> <span class=\"n\">tr</span> <span class=\"ow\">in</span> <span class=\"n\">effects</span><span class=\"p\">])</span>\n",
              "            <span class=\"k\">return</span> <span class=\"n\">s1</span><span class=\"o\">.</span><span class=\"n\">union</span><span class=\"p\">(</span><span class=\"n\">s2</span><span class=\"p\">)</span>\n",
              "        <span class=\"k\">else</span><span class=\"p\">:</span>\n",
              "            <span class=\"k\">print</span><span class=\"p\">(</span><span class=\"s1\">&#39;Could not retrieve states from transitions&#39;</span><span class=\"p\">)</span>\n",
              "            <span class=\"k\">return</span> <span class=\"bp\">None</span>\n",
              "\n",
              "    <span class=\"k\">def</span> <span class=\"nf\">check_consistency</span><span class=\"p\">(</span><span class=\"bp\">self</span><span class=\"p\">):</span>\n",
              "        <span class=\"c1\"># check that all states in transitions are valid</span>\n",
              "        <span class=\"k\">assert</span> <span class=\"nb\">set</span><span class=\"p\">(</span><span class=\"bp\">self</span><span class=\"o\">.</span><span class=\"n\">states</span><span class=\"p\">)</span> <span class=\"o\">==</span> <span class=\"bp\">self</span><span class=\"o\">.</span><span class=\"n\">get_states_from_transitions</span><span class=\"p\">(</span><span class=\"bp\">self</span><span class=\"o\">.</span><span class=\"n\">transitions</span><span class=\"p\">)</span>\n",
              "        <span class=\"c1\"># check that init is a valid state</span>\n",
              "        <span class=\"k\">assert</span> <span class=\"bp\">self</span><span class=\"o\">.</span><span class=\"n\">init</span> <span class=\"ow\">in</span> <span class=\"bp\">self</span><span class=\"o\">.</span><span class=\"n\">states</span>\n",
              "        <span class=\"c1\"># check reward for each state</span>\n",
              "        <span class=\"c1\">#assert set(self.reward.keys()) == set(self.states)</span>\n",
              "        <span class=\"k\">assert</span> <span class=\"nb\">set</span><span class=\"p\">(</span><span class=\"bp\">self</span><span class=\"o\">.</span><span class=\"n\">reward</span><span class=\"o\">.</span><span class=\"n\">keys</span><span class=\"p\">())</span> <span class=\"o\">==</span> <span class=\"nb\">set</span><span class=\"p\">(</span><span class=\"bp\">self</span><span class=\"o\">.</span><span class=\"n\">states</span><span class=\"p\">)</span>\n",
              "        <span class=\"c1\"># check that all terminals are valid states</span>\n",
              "        <span class=\"k\">assert</span> <span class=\"nb\">all</span><span class=\"p\">([</span><span class=\"n\">t</span> <span class=\"ow\">in</span> <span class=\"bp\">self</span><span class=\"o\">.</span><span class=\"n\">states</span> <span class=\"k\">for</span> <span class=\"n\">t</span> <span class=\"ow\">in</span> <span class=\"bp\">self</span><span class=\"o\">.</span><span class=\"n\">terminals</span><span class=\"p\">])</span>\n",
              "        <span class=\"c1\"># check that probability distributions for all actions sum to 1</span>\n",
              "        <span class=\"k\">for</span> <span class=\"n\">s1</span><span class=\"p\">,</span> <span class=\"n\">actions</span> <span class=\"ow\">in</span> <span class=\"bp\">self</span><span class=\"o\">.</span><span class=\"n\">transitions</span><span class=\"o\">.</span><span class=\"n\">items</span><span class=\"p\">():</span>\n",
              "            <span class=\"k\">for</span> <span class=\"n\">a</span> <span class=\"ow\">in</span> <span class=\"n\">actions</span><span class=\"o\">.</span><span class=\"n\">keys</span><span class=\"p\">():</span>\n",
              "                <span class=\"n\">s</span> <span class=\"o\">=</span> <span class=\"mi\">0</span>\n",
              "                <span class=\"k\">for</span> <span class=\"n\">o</span> <span class=\"ow\">in</span> <span class=\"n\">actions</span><span class=\"p\">[</span><span class=\"n\">a</span><span class=\"p\">]:</span>\n",
              "                    <span class=\"n\">s</span> <span class=\"o\">+=</span> <span class=\"n\">o</span><span class=\"p\">[</span><span class=\"mi\">0</span><span class=\"p\">]</span>\n",
              "                <span class=\"k\">assert</span> <span class=\"nb\">abs</span><span class=\"p\">(</span><span class=\"n\">s</span> <span class=\"o\">-</span> <span class=\"mi\">1</span><span class=\"p\">)</span> <span class=\"o\">&lt;</span> <span class=\"mf\">0.001</span>\n",
              "</pre></div>\n",
              "</body>\n",
              "</html>\n"
            ],
            "text/plain": [
              "<IPython.core.display.HTML object>"
            ]
          },
          "metadata": {},
          "output_type": "display_data"
        }
      ],
      "source": [
        "psource(MDP)"
      ]
    },
    {
      "cell_type": "code",
      "execution_count": null,
      "metadata": {
        "collapsed": true,
        "id": "o2uksTIYZUpb"
      },
      "outputs": [],
      "source": [
        "# Transition Matrix as nested dict. State -> Actions in state -> List of (Probability, State) tuples\n",
        "t = {\n",
        "    \"A\": {\n",
        "            \"X\": [(0.3, \"A\"), (0.7, \"B\")],\n",
        "            \"Y\": [(1.0, \"A\")]\n",
        "         },\n",
        "    \"B\": {\n",
        "            \"X\": {(0.8, \"End\"), (0.2, \"B\")},\n",
        "            \"Y\": {(1.0, \"A\")}\n",
        "         },\n",
        "    \"End\": {}\n",
        "}\n",
        "\n",
        "init = \"A\"\n",
        "\n",
        "terminals = [\"End\"]\n",
        "\n",
        "rewards = {\n",
        "    \"A\": 5,\n",
        "    \"B\": -10,\n",
        "    \"End\": 100\n",
        "}"
      ]
    },
    {
      "cell_type": "code",
      "execution_count": null,
      "metadata": {
        "collapsed": true,
        "id": "2mO2c9c7ZUpc"
      },
      "outputs": [],
      "source": [
        "class CustomMDP(MDP):\n",
        "    def __init__(self, init, terminals, transition_matrix, reward = None, gamma=.9):\n",
        "        # All possible actions.\n",
        "        actlist = []\n",
        "        for state in transition_matrix.keys():\n",
        "            actlist.extend(transition_matrix[state])\n",
        "        actlist = list(set(actlist))\n",
        "        MDP.__init__(self, init, actlist, terminals, transition_matrix, reward, gamma=gamma)\n",
        "\n",
        "    def T(self, state, action):\n",
        "        if action is None:\n",
        "            return [(0.0, state)]\n",
        "        else:\n",
        "            return self.t[state][action]"
      ]
    },
    {
      "cell_type": "code",
      "execution_count": null,
      "metadata": {
        "collapsed": true,
        "id": "OYK4oxOfZUpd"
      },
      "outputs": [],
      "source": [
        "our_mdp = CustomMDP(init, terminals, t, rewards, gamma=.9)"
      ]
    },
    {
      "cell_type": "markdown",
      "metadata": {
        "id": "0UWCop83ZUpe"
      },
      "source": [
        "With this we have successfully represented our MDP. Later we will look at ways to solve this MDP."
      ]
    },
    {
      "cell_type": "code",
      "execution_count": null,
      "metadata": {
        "id": "s2sc5aQeZUpf",
        "outputId": "0bfdca6b-bf72-40e0-9dc3-314545a9816e"
      },
      "outputs": [
        {
          "data": {
            "text/html": [
              "<!DOCTYPE html PUBLIC \"-//W3C//DTD HTML 4.01//EN\"\n",
              "   \"http://www.w3.org/TR/html4/strict.dtd\">\n",
              "\n",
              "<html>\n",
              "<head>\n",
              "  <title></title>\n",
              "  <meta http-equiv=\"content-type\" content=\"text/html; charset=None\">\n",
              "  <style type=\"text/css\">\n",
              "td.linenos { background-color: #f0f0f0; padding-right: 10px; }\n",
              "span.lineno { background-color: #f0f0f0; padding: 0 5px 0 5px; }\n",
              "pre { line-height: 125%; }\n",
              "body .hll { background-color: #ffffcc }\n",
              "body  { background: #f8f8f8; }\n",
              "body .c { color: #408080; font-style: italic } /* Comment */\n",
              "body .err { border: 1px solid #FF0000 } /* Error */\n",
              "body .k { color: #008000; font-weight: bold } /* Keyword */\n",
              "body .o { color: #666666 } /* Operator */\n",
              "body .ch { color: #408080; font-style: italic } /* Comment.Hashbang */\n",
              "body .cm { color: #408080; font-style: italic } /* Comment.Multiline */\n",
              "body .cp { color: #BC7A00 } /* Comment.Preproc */\n",
              "body .cpf { color: #408080; font-style: italic } /* Comment.PreprocFile */\n",
              "body .c1 { color: #408080; font-style: italic } /* Comment.Single */\n",
              "body .cs { color: #408080; font-style: italic } /* Comment.Special */\n",
              "body .gd { color: #A00000 } /* Generic.Deleted */\n",
              "body .ge { font-style: italic } /* Generic.Emph */\n",
              "body .gr { color: #FF0000 } /* Generic.Error */\n",
              "body .gh { color: #000080; font-weight: bold } /* Generic.Heading */\n",
              "body .gi { color: #00A000 } /* Generic.Inserted */\n",
              "body .go { color: #888888 } /* Generic.Output */\n",
              "body .gp { color: #000080; font-weight: bold } /* Generic.Prompt */\n",
              "body .gs { font-weight: bold } /* Generic.Strong */\n",
              "body .gu { color: #800080; font-weight: bold } /* Generic.Subheading */\n",
              "body .gt { color: #0044DD } /* Generic.Traceback */\n",
              "body .kc { color: #008000; font-weight: bold } /* Keyword.Constant */\n",
              "body .kd { color: #008000; font-weight: bold } /* Keyword.Declaration */\n",
              "body .kn { color: #008000; font-weight: bold } /* Keyword.Namespace */\n",
              "body .kp { color: #008000 } /* Keyword.Pseudo */\n",
              "body .kr { color: #008000; font-weight: bold } /* Keyword.Reserved */\n",
              "body .kt { color: #B00040 } /* Keyword.Type */\n",
              "body .m { color: #666666 } /* Literal.Number */\n",
              "body .s { color: #BA2121 } /* Literal.String */\n",
              "body .na { color: #7D9029 } /* Name.Attribute */\n",
              "body .nb { color: #008000 } /* Name.Builtin */\n",
              "body .nc { color: #0000FF; font-weight: bold } /* Name.Class */\n",
              "body .no { color: #880000 } /* Name.Constant */\n",
              "body .nd { color: #AA22FF } /* Name.Decorator */\n",
              "body .ni { color: #999999; font-weight: bold } /* Name.Entity */\n",
              "body .ne { color: #D2413A; font-weight: bold } /* Name.Exception */\n",
              "body .nf { color: #0000FF } /* Name.Function */\n",
              "body .nl { color: #A0A000 } /* Name.Label */\n",
              "body .nn { color: #0000FF; font-weight: bold } /* Name.Namespace */\n",
              "body .nt { color: #008000; font-weight: bold } /* Name.Tag */\n",
              "body .nv { color: #19177C } /* Name.Variable */\n",
              "body .ow { color: #AA22FF; font-weight: bold } /* Operator.Word */\n",
              "body .w { color: #bbbbbb } /* Text.Whitespace */\n",
              "body .mb { color: #666666 } /* Literal.Number.Bin */\n",
              "body .mf { color: #666666 } /* Literal.Number.Float */\n",
              "body .mh { color: #666666 } /* Literal.Number.Hex */\n",
              "body .mi { color: #666666 } /* Literal.Number.Integer */\n",
              "body .mo { color: #666666 } /* Literal.Number.Oct */\n",
              "body .sa { color: #BA2121 } /* Literal.String.Affix */\n",
              "body .sb { color: #BA2121 } /* Literal.String.Backtick */\n",
              "body .sc { color: #BA2121 } /* Literal.String.Char */\n",
              "body .dl { color: #BA2121 } /* Literal.String.Delimiter */\n",
              "body .sd { color: #BA2121; font-style: italic } /* Literal.String.Doc */\n",
              "body .s2 { color: #BA2121 } /* Literal.String.Double */\n",
              "body .se { color: #BB6622; font-weight: bold } /* Literal.String.Escape */\n",
              "body .sh { color: #BA2121 } /* Literal.String.Heredoc */\n",
              "body .si { color: #BB6688; font-weight: bold } /* Literal.String.Interpol */\n",
              "body .sx { color: #008000 } /* Literal.String.Other */\n",
              "body .sr { color: #BB6688 } /* Literal.String.Regex */\n",
              "body .s1 { color: #BA2121 } /* Literal.String.Single */\n",
              "body .ss { color: #19177C } /* Literal.String.Symbol */\n",
              "body .bp { color: #008000 } /* Name.Builtin.Pseudo */\n",
              "body .fm { color: #0000FF } /* Name.Function.Magic */\n",
              "body .vc { color: #19177C } /* Name.Variable.Class */\n",
              "body .vg { color: #19177C } /* Name.Variable.Global */\n",
              "body .vi { color: #19177C } /* Name.Variable.Instance */\n",
              "body .vm { color: #19177C } /* Name.Variable.Magic */\n",
              "body .il { color: #666666 } /* Literal.Number.Integer.Long */\n",
              "\n",
              "  </style>\n",
              "</head>\n",
              "<body>\n",
              "<h2></h2>\n",
              "\n",
              "<div class=\"highlight\"><pre><span></span><span class=\"k\">class</span> <span class=\"nc\">GridMDP</span><span class=\"p\">(</span><span class=\"n\">MDP</span><span class=\"p\">):</span>\n",
              "\n",
              "    <span class=\"sd\">&quot;&quot;&quot;A two-dimensional grid MDP, as in [Figure 17.1]. All you have to do is</span>\n",
              "<span class=\"sd\">    specify the grid as a list of lists of rewards; use None for an obstacle</span>\n",
              "<span class=\"sd\">    (unreachable state). Also, you should specify the terminal states.</span>\n",
              "<span class=\"sd\">    An action is an (x, y) unit vector; e.g. (1, 0) means move east.&quot;&quot;&quot;</span>\n",
              "\n",
              "    <span class=\"k\">def</span> <span class=\"fm\">__init__</span><span class=\"p\">(</span><span class=\"bp\">self</span><span class=\"p\">,</span> <span class=\"n\">grid</span><span class=\"p\">,</span> <span class=\"n\">terminals</span><span class=\"p\">,</span> <span class=\"n\">init</span><span class=\"o\">=</span><span class=\"p\">(</span><span class=\"mi\">0</span><span class=\"p\">,</span> <span class=\"mi\">0</span><span class=\"p\">),</span> <span class=\"n\">gamma</span><span class=\"o\">=.</span><span class=\"mi\">9</span><span class=\"p\">):</span>\n",
              "        <span class=\"n\">grid</span><span class=\"o\">.</span><span class=\"n\">reverse</span><span class=\"p\">()</span>  <span class=\"c1\"># because we want row 0 on bottom, not on top</span>\n",
              "        <span class=\"n\">reward</span> <span class=\"o\">=</span> <span class=\"p\">{}</span>\n",
              "        <span class=\"n\">states</span> <span class=\"o\">=</span> <span class=\"nb\">set</span><span class=\"p\">()</span>\n",
              "        <span class=\"bp\">self</span><span class=\"o\">.</span><span class=\"n\">rows</span> <span class=\"o\">=</span> <span class=\"nb\">len</span><span class=\"p\">(</span><span class=\"n\">grid</span><span class=\"p\">)</span>\n",
              "        <span class=\"bp\">self</span><span class=\"o\">.</span><span class=\"n\">cols</span> <span class=\"o\">=</span> <span class=\"nb\">len</span><span class=\"p\">(</span><span class=\"n\">grid</span><span class=\"p\">[</span><span class=\"mi\">0</span><span class=\"p\">])</span>\n",
              "        <span class=\"bp\">self</span><span class=\"o\">.</span><span class=\"n\">grid</span> <span class=\"o\">=</span> <span class=\"n\">grid</span>\n",
              "        <span class=\"k\">for</span> <span class=\"n\">x</span> <span class=\"ow\">in</span> <span class=\"nb\">range</span><span class=\"p\">(</span><span class=\"bp\">self</span><span class=\"o\">.</span><span class=\"n\">cols</span><span class=\"p\">):</span>\n",
              "            <span class=\"k\">for</span> <span class=\"n\">y</span> <span class=\"ow\">in</span> <span class=\"nb\">range</span><span class=\"p\">(</span><span class=\"bp\">self</span><span class=\"o\">.</span><span class=\"n\">rows</span><span class=\"p\">):</span>\n",
              "                <span class=\"k\">if</span> <span class=\"n\">grid</span><span class=\"p\">[</span><span class=\"n\">y</span><span class=\"p\">][</span><span class=\"n\">x</span><span class=\"p\">]</span> <span class=\"ow\">is</span> <span class=\"ow\">not</span> <span class=\"bp\">None</span><span class=\"p\">:</span>\n",
              "                    <span class=\"n\">states</span><span class=\"o\">.</span><span class=\"n\">add</span><span class=\"p\">((</span><span class=\"n\">x</span><span class=\"p\">,</span> <span class=\"n\">y</span><span class=\"p\">))</span>\n",
              "                    <span class=\"n\">reward</span><span class=\"p\">[(</span><span class=\"n\">x</span><span class=\"p\">,</span> <span class=\"n\">y</span><span class=\"p\">)]</span> <span class=\"o\">=</span> <span class=\"n\">grid</span><span class=\"p\">[</span><span class=\"n\">y</span><span class=\"p\">][</span><span class=\"n\">x</span><span class=\"p\">]</span>\n",
              "        <span class=\"bp\">self</span><span class=\"o\">.</span><span class=\"n\">states</span> <span class=\"o\">=</span> <span class=\"n\">states</span>\n",
              "        <span class=\"n\">actlist</span> <span class=\"o\">=</span> <span class=\"n\">orientations</span>\n",
              "        <span class=\"n\">transitions</span> <span class=\"o\">=</span> <span class=\"p\">{}</span>\n",
              "        <span class=\"k\">for</span> <span class=\"n\">s</span> <span class=\"ow\">in</span> <span class=\"n\">states</span><span class=\"p\">:</span>\n",
              "            <span class=\"n\">transitions</span><span class=\"p\">[</span><span class=\"n\">s</span><span class=\"p\">]</span> <span class=\"o\">=</span> <span class=\"p\">{}</span>\n",
              "            <span class=\"k\">for</span> <span class=\"n\">a</span> <span class=\"ow\">in</span> <span class=\"n\">actlist</span><span class=\"p\">:</span>\n",
              "                <span class=\"n\">transitions</span><span class=\"p\">[</span><span class=\"n\">s</span><span class=\"p\">][</span><span class=\"n\">a</span><span class=\"p\">]</span> <span class=\"o\">=</span> <span class=\"bp\">self</span><span class=\"o\">.</span><span class=\"n\">calculate_T</span><span class=\"p\">(</span><span class=\"n\">s</span><span class=\"p\">,</span> <span class=\"n\">a</span><span class=\"p\">)</span>\n",
              "        <span class=\"n\">MDP</span><span class=\"o\">.</span><span class=\"fm\">__init__</span><span class=\"p\">(</span><span class=\"bp\">self</span><span class=\"p\">,</span> <span class=\"n\">init</span><span class=\"p\">,</span> <span class=\"n\">actlist</span><span class=\"o\">=</span><span class=\"n\">actlist</span><span class=\"p\">,</span>\n",
              "                     <span class=\"n\">terminals</span><span class=\"o\">=</span><span class=\"n\">terminals</span><span class=\"p\">,</span> <span class=\"n\">transitions</span> <span class=\"o\">=</span> <span class=\"n\">transitions</span><span class=\"p\">,</span> \n",
              "                     <span class=\"n\">reward</span> <span class=\"o\">=</span> <span class=\"n\">reward</span><span class=\"p\">,</span> <span class=\"n\">states</span> <span class=\"o\">=</span> <span class=\"n\">states</span><span class=\"p\">,</span> <span class=\"n\">gamma</span><span class=\"o\">=</span><span class=\"n\">gamma</span><span class=\"p\">)</span>\n",
              "\n",
              "    <span class=\"k\">def</span> <span class=\"nf\">calculate_T</span><span class=\"p\">(</span><span class=\"bp\">self</span><span class=\"p\">,</span> <span class=\"n\">state</span><span class=\"p\">,</span> <span class=\"n\">action</span><span class=\"p\">):</span>\n",
              "        <span class=\"k\">if</span> <span class=\"n\">action</span> <span class=\"ow\">is</span> <span class=\"bp\">None</span><span class=\"p\">:</span>\n",
              "            <span class=\"k\">return</span> <span class=\"p\">[(</span><span class=\"mf\">0.0</span><span class=\"p\">,</span> <span class=\"n\">state</span><span class=\"p\">)]</span>\n",
              "        <span class=\"k\">else</span><span class=\"p\">:</span>\n",
              "            <span class=\"k\">return</span> <span class=\"p\">[(</span><span class=\"mf\">0.8</span><span class=\"p\">,</span> <span class=\"bp\">self</span><span class=\"o\">.</span><span class=\"n\">go</span><span class=\"p\">(</span><span class=\"n\">state</span><span class=\"p\">,</span> <span class=\"n\">action</span><span class=\"p\">)),</span>\n",
              "                    <span class=\"p\">(</span><span class=\"mf\">0.1</span><span class=\"p\">,</span> <span class=\"bp\">self</span><span class=\"o\">.</span><span class=\"n\">go</span><span class=\"p\">(</span><span class=\"n\">state</span><span class=\"p\">,</span> <span class=\"n\">turn_right</span><span class=\"p\">(</span><span class=\"n\">action</span><span class=\"p\">))),</span>\n",
              "                    <span class=\"p\">(</span><span class=\"mf\">0.1</span><span class=\"p\">,</span> <span class=\"bp\">self</span><span class=\"o\">.</span><span class=\"n\">go</span><span class=\"p\">(</span><span class=\"n\">state</span><span class=\"p\">,</span> <span class=\"n\">turn_left</span><span class=\"p\">(</span><span class=\"n\">action</span><span class=\"p\">)))]</span>\n",
              "    \n",
              "    <span class=\"k\">def</span> <span class=\"nf\">T</span><span class=\"p\">(</span><span class=\"bp\">self</span><span class=\"p\">,</span> <span class=\"n\">state</span><span class=\"p\">,</span> <span class=\"n\">action</span><span class=\"p\">):</span>\n",
              "        <span class=\"k\">if</span> <span class=\"n\">action</span> <span class=\"ow\">is</span> <span class=\"bp\">None</span><span class=\"p\">:</span>\n",
              "            <span class=\"k\">return</span> <span class=\"p\">[(</span><span class=\"mf\">0.0</span><span class=\"p\">,</span> <span class=\"n\">state</span><span class=\"p\">)]</span>\n",
              "        <span class=\"k\">else</span><span class=\"p\">:</span>\n",
              "            <span class=\"k\">return</span> <span class=\"bp\">self</span><span class=\"o\">.</span><span class=\"n\">transitions</span><span class=\"p\">[</span><span class=\"n\">state</span><span class=\"p\">][</span><span class=\"n\">action</span><span class=\"p\">]</span>\n",
              " \n",
              "    <span class=\"k\">def</span> <span class=\"nf\">go</span><span class=\"p\">(</span><span class=\"bp\">self</span><span class=\"p\">,</span> <span class=\"n\">state</span><span class=\"p\">,</span> <span class=\"n\">direction</span><span class=\"p\">):</span>\n",
              "        <span class=\"sd\">&quot;&quot;&quot;Return the state that results from going in this direction.&quot;&quot;&quot;</span>\n",
              "        <span class=\"n\">state1</span> <span class=\"o\">=</span> <span class=\"n\">vector_add</span><span class=\"p\">(</span><span class=\"n\">state</span><span class=\"p\">,</span> <span class=\"n\">direction</span><span class=\"p\">)</span>\n",
              "        <span class=\"k\">return</span> <span class=\"n\">state1</span> <span class=\"k\">if</span> <span class=\"n\">state1</span> <span class=\"ow\">in</span> <span class=\"bp\">self</span><span class=\"o\">.</span><span class=\"n\">states</span> <span class=\"k\">else</span> <span class=\"n\">state</span>\n",
              "\n",
              "    <span class=\"k\">def</span> <span class=\"nf\">to_grid</span><span class=\"p\">(</span><span class=\"bp\">self</span><span class=\"p\">,</span> <span class=\"n\">mapping</span><span class=\"p\">):</span>\n",
              "        <span class=\"sd\">&quot;&quot;&quot;Convert a mapping from (x, y) to v into a [[..., v, ...]] grid.&quot;&quot;&quot;</span>\n",
              "        <span class=\"k\">return</span> <span class=\"nb\">list</span><span class=\"p\">(</span><span class=\"nb\">reversed</span><span class=\"p\">([[</span><span class=\"n\">mapping</span><span class=\"o\">.</span><span class=\"n\">get</span><span class=\"p\">((</span><span class=\"n\">x</span><span class=\"p\">,</span> <span class=\"n\">y</span><span class=\"p\">),</span> <span class=\"bp\">None</span><span class=\"p\">)</span>\n",
              "                               <span class=\"k\">for</span> <span class=\"n\">x</span> <span class=\"ow\">in</span> <span class=\"nb\">range</span><span class=\"p\">(</span><span class=\"bp\">self</span><span class=\"o\">.</span><span class=\"n\">cols</span><span class=\"p\">)]</span>\n",
              "                              <span class=\"k\">for</span> <span class=\"n\">y</span> <span class=\"ow\">in</span> <span class=\"nb\">range</span><span class=\"p\">(</span><span class=\"bp\">self</span><span class=\"o\">.</span><span class=\"n\">rows</span><span class=\"p\">)]))</span>\n",
              "\n",
              "    <span class=\"k\">def</span> <span class=\"nf\">to_arrows</span><span class=\"p\">(</span><span class=\"bp\">self</span><span class=\"p\">,</span> <span class=\"n\">policy</span><span class=\"p\">):</span>\n",
              "        <span class=\"n\">chars</span> <span class=\"o\">=</span> <span class=\"p\">{</span>\n",
              "            <span class=\"p\">(</span><span class=\"mi\">1</span><span class=\"p\">,</span> <span class=\"mi\">0</span><span class=\"p\">):</span> <span class=\"s1\">&#39;&gt;&#39;</span><span class=\"p\">,</span> <span class=\"p\">(</span><span class=\"mi\">0</span><span class=\"p\">,</span> <span class=\"mi\">1</span><span class=\"p\">):</span> <span class=\"s1\">&#39;^&#39;</span><span class=\"p\">,</span> <span class=\"p\">(</span><span class=\"o\">-</span><span class=\"mi\">1</span><span class=\"p\">,</span> <span class=\"mi\">0</span><span class=\"p\">):</span> <span class=\"s1\">&#39;&lt;&#39;</span><span class=\"p\">,</span> <span class=\"p\">(</span><span class=\"mi\">0</span><span class=\"p\">,</span> <span class=\"o\">-</span><span class=\"mi\">1</span><span class=\"p\">):</span> <span class=\"s1\">&#39;v&#39;</span><span class=\"p\">,</span> <span class=\"bp\">None</span><span class=\"p\">:</span> <span class=\"s1\">&#39;.&#39;</span><span class=\"p\">}</span>\n",
              "        <span class=\"k\">return</span> <span class=\"bp\">self</span><span class=\"o\">.</span><span class=\"n\">to_grid</span><span class=\"p\">({</span><span class=\"n\">s</span><span class=\"p\">:</span> <span class=\"n\">chars</span><span class=\"p\">[</span><span class=\"n\">a</span><span class=\"p\">]</span> <span class=\"k\">for</span> <span class=\"p\">(</span><span class=\"n\">s</span><span class=\"p\">,</span> <span class=\"n\">a</span><span class=\"p\">)</span> <span class=\"ow\">in</span> <span class=\"n\">policy</span><span class=\"o\">.</span><span class=\"n\">items</span><span class=\"p\">()})</span>\n",
              "</pre></div>\n",
              "</body>\n",
              "</html>\n"
            ],
            "text/plain": [
              "<IPython.core.display.HTML object>"
            ]
          },
          "metadata": {},
          "output_type": "display_data"
        }
      ],
      "source": [
        "psource(GridMDP)"
      ]
    },
    {
      "cell_type": "markdown",
      "metadata": {
        "id": "5W4hsAt8ZUpg"
      },
      "source": [
        "We can create a GridMDP like the one in **Fig 17.1** as follows:\n",
        "\n",
        "    GridMDP([[-0.04, -0.04, -0.04, +1],\n",
        "            [-0.04, None,  -0.04, -1],\n",
        "            [-0.04, -0.04, -0.04, -0.04]],\n",
        "            terminals=[(3, 2), (3, 1)])\n",
        "            \n",
        "In fact the **sequential_decision_environment** in mdp module has been instantized using the exact same code."
      ]
    },
    {
      "cell_type": "code",
      "execution_count": null,
      "metadata": {
        "id": "XRkbKoyhZUpg",
        "outputId": "310263f7-70f7-44c3-f1ee-369f0ee38290"
      },
      "outputs": [
        {
          "data": {
            "text/plain": [
              "<mdp.GridMDP at 0x1d384953fd0>"
            ]
          },
          "execution_count": 7,
          "metadata": {},
          "output_type": "execute_result"
        }
      ],
      "source": [
        "sequential_decision_environment"
      ]
    },
    {
      "cell_type": "code",
      "execution_count": null,
      "metadata": {
        "id": "Q_AJ7VpdZUph",
        "outputId": "749533f6-0857-42cd-f33f-2db6a507de63"
      },
      "outputs": [
        {
          "data": {
            "text/html": [
              "<!DOCTYPE html PUBLIC \"-//W3C//DTD HTML 4.01//EN\"\n",
              "   \"http://www.w3.org/TR/html4/strict.dtd\">\n",
              "\n",
              "<html>\n",
              "<head>\n",
              "  <title></title>\n",
              "  <meta http-equiv=\"content-type\" content=\"text/html; charset=None\">\n",
              "  <style type=\"text/css\">\n",
              "td.linenos { background-color: #f0f0f0; padding-right: 10px; }\n",
              "span.lineno { background-color: #f0f0f0; padding: 0 5px 0 5px; }\n",
              "pre { line-height: 125%; }\n",
              "body .hll { background-color: #ffffcc }\n",
              "body  { background: #f8f8f8; }\n",
              "body .c { color: #408080; font-style: italic } /* Comment */\n",
              "body .err { border: 1px solid #FF0000 } /* Error */\n",
              "body .k { color: #008000; font-weight: bold } /* Keyword */\n",
              "body .o { color: #666666 } /* Operator */\n",
              "body .ch { color: #408080; font-style: italic } /* Comment.Hashbang */\n",
              "body .cm { color: #408080; font-style: italic } /* Comment.Multiline */\n",
              "body .cp { color: #BC7A00 } /* Comment.Preproc */\n",
              "body .cpf { color: #408080; font-style: italic } /* Comment.PreprocFile */\n",
              "body .c1 { color: #408080; font-style: italic } /* Comment.Single */\n",
              "body .cs { color: #408080; font-style: italic } /* Comment.Special */\n",
              "body .gd { color: #A00000 } /* Generic.Deleted */\n",
              "body .ge { font-style: italic } /* Generic.Emph */\n",
              "body .gr { color: #FF0000 } /* Generic.Error */\n",
              "body .gh { color: #000080; font-weight: bold } /* Generic.Heading */\n",
              "body .gi { color: #00A000 } /* Generic.Inserted */\n",
              "body .go { color: #888888 } /* Generic.Output */\n",
              "body .gp { color: #000080; font-weight: bold } /* Generic.Prompt */\n",
              "body .gs { font-weight: bold } /* Generic.Strong */\n",
              "body .gu { color: #800080; font-weight: bold } /* Generic.Subheading */\n",
              "body .gt { color: #0044DD } /* Generic.Traceback */\n",
              "body .kc { color: #008000; font-weight: bold } /* Keyword.Constant */\n",
              "body .kd { color: #008000; font-weight: bold } /* Keyword.Declaration */\n",
              "body .kn { color: #008000; font-weight: bold } /* Keyword.Namespace */\n",
              "body .kp { color: #008000 } /* Keyword.Pseudo */\n",
              "body .kr { color: #008000; font-weight: bold } /* Keyword.Reserved */\n",
              "body .kt { color: #B00040 } /* Keyword.Type */\n",
              "body .m { color: #666666 } /* Literal.Number */\n",
              "body .s { color: #BA2121 } /* Literal.String */\n",
              "body .na { color: #7D9029 } /* Name.Attribute */\n",
              "body .nb { color: #008000 } /* Name.Builtin */\n",
              "body .nc { color: #0000FF; font-weight: bold } /* Name.Class */\n",
              "body .no { color: #880000 } /* Name.Constant */\n",
              "body .nd { color: #AA22FF } /* Name.Decorator */\n",
              "body .ni { color: #999999; font-weight: bold } /* Name.Entity */\n",
              "body .ne { color: #D2413A; font-weight: bold } /* Name.Exception */\n",
              "body .nf { color: #0000FF } /* Name.Function */\n",
              "body .nl { color: #A0A000 } /* Name.Label */\n",
              "body .nn { color: #0000FF; font-weight: bold } /* Name.Namespace */\n",
              "body .nt { color: #008000; font-weight: bold } /* Name.Tag */\n",
              "body .nv { color: #19177C } /* Name.Variable */\n",
              "body .ow { color: #AA22FF; font-weight: bold } /* Operator.Word */\n",
              "body .w { color: #bbbbbb } /* Text.Whitespace */\n",
              "body .mb { color: #666666 } /* Literal.Number.Bin */\n",
              "body .mf { color: #666666 } /* Literal.Number.Float */\n",
              "body .mh { color: #666666 } /* Literal.Number.Hex */\n",
              "body .mi { color: #666666 } /* Literal.Number.Integer */\n",
              "body .mo { color: #666666 } /* Literal.Number.Oct */\n",
              "body .sa { color: #BA2121 } /* Literal.String.Affix */\n",
              "body .sb { color: #BA2121 } /* Literal.String.Backtick */\n",
              "body .sc { color: #BA2121 } /* Literal.String.Char */\n",
              "body .dl { color: #BA2121 } /* Literal.String.Delimiter */\n",
              "body .sd { color: #BA2121; font-style: italic } /* Literal.String.Doc */\n",
              "body .s2 { color: #BA2121 } /* Literal.String.Double */\n",
              "body .se { color: #BB6622; font-weight: bold } /* Literal.String.Escape */\n",
              "body .sh { color: #BA2121 } /* Literal.String.Heredoc */\n",
              "body .si { color: #BB6688; font-weight: bold } /* Literal.String.Interpol */\n",
              "body .sx { color: #008000 } /* Literal.String.Other */\n",
              "body .sr { color: #BB6688 } /* Literal.String.Regex */\n",
              "body .s1 { color: #BA2121 } /* Literal.String.Single */\n",
              "body .ss { color: #19177C } /* Literal.String.Symbol */\n",
              "body .bp { color: #008000 } /* Name.Builtin.Pseudo */\n",
              "body .fm { color: #0000FF } /* Name.Function.Magic */\n",
              "body .vc { color: #19177C } /* Name.Variable.Class */\n",
              "body .vg { color: #19177C } /* Name.Variable.Global */\n",
              "body .vi { color: #19177C } /* Name.Variable.Instance */\n",
              "body .vm { color: #19177C } /* Name.Variable.Magic */\n",
              "body .il { color: #666666 } /* Literal.Number.Integer.Long */\n",
              "\n",
              "  </style>\n",
              "</head>\n",
              "<body>\n",
              "<h2></h2>\n",
              "\n",
              "<div class=\"highlight\"><pre><span></span><span class=\"k\">def</span> <span class=\"nf\">value_iteration</span><span class=\"p\">(</span><span class=\"n\">mdp</span><span class=\"p\">,</span> <span class=\"n\">epsilon</span><span class=\"o\">=</span><span class=\"mf\">0.001</span><span class=\"p\">):</span>\n",
              "    <span class=\"sd\">&quot;&quot;&quot;Solving an MDP by value iteration. [Figure 17.4]&quot;&quot;&quot;</span>\n",
              "    <span class=\"n\">U1</span> <span class=\"o\">=</span> <span class=\"p\">{</span><span class=\"n\">s</span><span class=\"p\">:</span> <span class=\"mi\">0</span> <span class=\"k\">for</span> <span class=\"n\">s</span> <span class=\"ow\">in</span> <span class=\"n\">mdp</span><span class=\"o\">.</span><span class=\"n\">states</span><span class=\"p\">}</span>\n",
              "    <span class=\"n\">R</span><span class=\"p\">,</span> <span class=\"n\">T</span><span class=\"p\">,</span> <span class=\"n\">gamma</span> <span class=\"o\">=</span> <span class=\"n\">mdp</span><span class=\"o\">.</span><span class=\"n\">R</span><span class=\"p\">,</span> <span class=\"n\">mdp</span><span class=\"o\">.</span><span class=\"n\">T</span><span class=\"p\">,</span> <span class=\"n\">mdp</span><span class=\"o\">.</span><span class=\"n\">gamma</span>\n",
              "    <span class=\"k\">while</span> <span class=\"bp\">True</span><span class=\"p\">:</span>\n",
              "        <span class=\"n\">U</span> <span class=\"o\">=</span> <span class=\"n\">U1</span><span class=\"o\">.</span><span class=\"n\">copy</span><span class=\"p\">()</span>\n",
              "        <span class=\"n\">delta</span> <span class=\"o\">=</span> <span class=\"mi\">0</span>\n",
              "        <span class=\"k\">for</span> <span class=\"n\">s</span> <span class=\"ow\">in</span> <span class=\"n\">mdp</span><span class=\"o\">.</span><span class=\"n\">states</span><span class=\"p\">:</span>\n",
              "            <span class=\"n\">U1</span><span class=\"p\">[</span><span class=\"n\">s</span><span class=\"p\">]</span> <span class=\"o\">=</span> <span class=\"n\">R</span><span class=\"p\">(</span><span class=\"n\">s</span><span class=\"p\">)</span> <span class=\"o\">+</span> <span class=\"n\">gamma</span> <span class=\"o\">*</span> <span class=\"nb\">max</span><span class=\"p\">([</span><span class=\"nb\">sum</span><span class=\"p\">([</span><span class=\"n\">p</span> <span class=\"o\">*</span> <span class=\"n\">U</span><span class=\"p\">[</span><span class=\"n\">s1</span><span class=\"p\">]</span> <span class=\"k\">for</span> <span class=\"p\">(</span><span class=\"n\">p</span><span class=\"p\">,</span> <span class=\"n\">s1</span><span class=\"p\">)</span> <span class=\"ow\">in</span> <span class=\"n\">T</span><span class=\"p\">(</span><span class=\"n\">s</span><span class=\"p\">,</span> <span class=\"n\">a</span><span class=\"p\">)])</span>\n",
              "                                        <span class=\"k\">for</span> <span class=\"n\">a</span> <span class=\"ow\">in</span> <span class=\"n\">mdp</span><span class=\"o\">.</span><span class=\"n\">actions</span><span class=\"p\">(</span><span class=\"n\">s</span><span class=\"p\">)])</span>\n",
              "            <span class=\"n\">delta</span> <span class=\"o\">=</span> <span class=\"nb\">max</span><span class=\"p\">(</span><span class=\"n\">delta</span><span class=\"p\">,</span> <span class=\"nb\">abs</span><span class=\"p\">(</span><span class=\"n\">U1</span><span class=\"p\">[</span><span class=\"n\">s</span><span class=\"p\">]</span> <span class=\"o\">-</span> <span class=\"n\">U</span><span class=\"p\">[</span><span class=\"n\">s</span><span class=\"p\">]))</span>\n",
              "        <span class=\"k\">if</span> <span class=\"n\">delta</span> <span class=\"o\">&lt;</span> <span class=\"n\">epsilon</span> <span class=\"o\">*</span> <span class=\"p\">(</span><span class=\"mi\">1</span> <span class=\"o\">-</span> <span class=\"n\">gamma</span><span class=\"p\">)</span> <span class=\"o\">/</span> <span class=\"n\">gamma</span><span class=\"p\">:</span>\n",
              "            <span class=\"k\">return</span> <span class=\"n\">U</span>\n",
              "</pre></div>\n",
              "</body>\n",
              "</html>\n"
            ],
            "text/plain": [
              "<IPython.core.display.HTML object>"
            ]
          },
          "metadata": {},
          "output_type": "display_data"
        }
      ],
      "source": [
        "psource(value_iteration)"
      ]
    },
    {
      "cell_type": "markdown",
      "metadata": {
        "id": "OJgpl9g-ZUpi"
      },
      "source": [
        "It takes as inputs two parameters, an MDP to solve and epsilon, the maximum error allowed in the utility of any state. It returns a dictionary containing utilities where the keys are the states and values represent utilities. <br> Value Iteration starts with arbitrary initial values for the utilities, calculates the right side of the Bellman equation and plugs it into the left hand side, thereby updating the utility of each state from the utilities of its neighbors.\n",
        "This is repeated until equilibrium is reached.\n",
        "It works on the principle of _Dynamic Programming_ - using precomputed information to simplify the subsequent computation.\n",
        "If $U_i(s)$ is the utility value for state $s$ at the $i$ th iteration, the iteration step, called Bellman update, looks like this:\n",
        "\n",
        "$$ U_{i+1}(s) \\leftarrow R(s) + \\gamma \\max_{a \\epsilon A(s)} \\sum_{s'} P(s'\\ |\\ s,a)U_{i}(s') $$\n",
        "\n",
        "As you might have noticed, `value_iteration` has an infinite loop. How do we decide when to stop iterating?\n",
        "The concept of _contraction_ successfully explains the convergence of value iteration.\n",
        "Refer to **Section 17.2.3** of the book for a detailed explanation.\n",
        "In the algorithm, we calculate a value $delta$ that measures the difference in the utilities of the current time step and the previous time step.\n",
        "\n",
        "$$\\delta = \\max{(\\delta, \\begin{vmatrix}U_{i + 1}(s) - U_i(s)\\end{vmatrix})}$$\n",
        "\n",
        "This value of delta decreases as the values of $U_i$ converge.\n",
        "We terminate the algorithm if the $\\delta$ value is less than a threshold value determined by the hyperparameter _epsilon_.\n",
        "\n",
        "$$\\delta \\lt \\epsilon \\frac{(1 - \\gamma)}{\\gamma}$$\n",
        "\n",
        "To summarize, the Bellman update is a _contraction_ by a factor of $gamma$ on the space of utility vectors.\n",
        "Hence, from the properties of contractions in general, it follows that `value_iteration` always converges to a unique solution of the Bellman equations whenever $gamma$ is less than 1.\n",
        "We then terminate the algorithm when a reasonable approximation is achieved.\n",
        "In practice, it often occurs that the policy $pi$ becomes optimal long before the utility function converges. For the given 4 x 3 environment with $gamma = 0.9$, the policy $pi$ is optimal when $i = 4$ (at the 4th iteration), even though the maximum error in the utility function is stil 0.46. This can be clarified from **figure 17.6** in the book. Hence, to increase computational efficiency, we often use another method to solve MDPs called Policy Iteration which we will see in the later part of this notebook.\n",
        "<br>For now, let us solve the **sequential_decision_environment** GridMDP using `value_iteration`."
      ]
    },
    {
      "cell_type": "code",
      "execution_count": null,
      "metadata": {
        "id": "jE6V_7-zZUpi",
        "outputId": "89082bde-a052-46f1-ed8f-8e0a1e8e23e1"
      },
      "outputs": [
        {
          "data": {
            "text/plain": [
              "{(0, 0): 0.2962883154554812,\n",
              " (0, 1): 0.3984432178350045,\n",
              " (0, 2): 0.5093943765842497,\n",
              " (1, 0): 0.25386699846479516,\n",
              " (1, 2): 0.649585681261095,\n",
              " (2, 0): 0.3447542300124158,\n",
              " (2, 1): 0.48644001739269643,\n",
              " (2, 2): 0.7953620878466678,\n",
              " (3, 0): 0.12987274656746342,\n",
              " (3, 1): -1.0,\n",
              " (3, 2): 1.0}"
            ]
          },
          "execution_count": 9,
          "metadata": {},
          "output_type": "execute_result"
        }
      ],
      "source": [
        "value_iteration(sequential_decision_environment)"
      ]
    },
    {
      "cell_type": "markdown",
      "metadata": {
        "id": "2NbL3cihZUpi"
      },
      "source": [
        "The pseudocode for the algorithm:"
      ]
    },
    {
      "cell_type": "code",
      "execution_count": null,
      "metadata": {
        "id": "m_Te2x4LZUpj",
        "outputId": "61fcfe9f-377b-4315-d066-9772668ca373"
      },
      "outputs": [
        {
          "data": {
            "text/markdown": [
              "### AIMA3e\n",
              "__function__ VALUE-ITERATION(_mdp_, _&epsi;_) __returns__ a utility function  \n",
              "&emsp;__inputs__: _mdp_, an MDP with states _S_, actions _A_(_s_), transition model _P_(_s&prime;_ &vert; _s_, _a_),  \n",
              "&emsp;&emsp;&emsp;&emsp;&emsp;&emsp;rewards _R_(_s_), discount _&gamma;_  \n",
              "&emsp;&emsp;&emsp;_&epsi;_, the maximum error allowed in the utility of any state  \n",
              "&emsp;__local variables__: _U_, _U&prime;_, vectors of utilities for states in _S_, initially zero  \n",
              "&emsp;&emsp;&emsp;&emsp;&emsp;&emsp;&emsp;&emsp;_&delta;_, the maximum change in the utility of any state in an iteration  \n",
              "\n",
              "&emsp;__repeat__  \n",
              "&emsp;&emsp;&emsp;_U_ &larr; _U&prime;_; _&delta;_ &larr; 0  \n",
              "&emsp;&emsp;&emsp;__for each__ state _s_ in _S_ __do__  \n",
              "&emsp;&emsp;&emsp;&emsp;&emsp;_U&prime;_\\[_s_\\] &larr; _R_(_s_) &plus; _&gamma;_ max<sub>_a_ &isin; _A_(_s_)</sub> &Sigma; _P_(_s&prime;_ &vert; _s_, _a_) _U_\\[_s&prime;_\\]  \n",
              "&emsp;&emsp;&emsp;&emsp;&emsp;__if__ &vert; _U&prime;_\\[_s_\\] &minus; _U_\\[_s_\\]  &vert; &gt; _&delta;_ __then__ _&delta;_ &larr; &vert; _U&prime;_\\[_s_\\] &minus; _U_\\[_s_\\]  &vert;  \n",
              "&emsp;__until__ _&delta;_ &lt; _&epsi;_(1 &minus; _&gamma;_)&sol;_&gamma;_  \n",
              "&emsp;__return__ _U_  \n",
              "\n",
              "---\n",
              "__Figure ??__ The value iteration algorithm for calculating utilities of states. The termination condition is from Equation (__??__)."
            ],
            "text/plain": [
              "<IPython.core.display.Markdown object>"
            ]
          },
          "execution_count": 10,
          "metadata": {},
          "output_type": "execute_result"
        }
      ],
      "source": [
        "pseudocode(\"Value-Iteration\")"
      ]
    },
    {
      "cell_type": "markdown",
      "metadata": {
        "id": "on9wTweyZUpj"
      },
      "source": [
        "### AIMA3e\n",
        "__function__ VALUE-ITERATION(_mdp_, _&epsi;_) __returns__ a utility function  \n",
        "&emsp;__inputs__: _mdp_, an MDP with states _S_, actions _A_(_s_), transition model _P_(_s&prime;_ &vert; _s_, _a_),  \n",
        "&emsp;&emsp;&emsp;&emsp;&emsp;&emsp;rewards _R_(_s_), discount _&gamma;_  \n",
        "&emsp;&emsp;&emsp;_&epsi;_, the maximum error allowed in the utility of any state  \n",
        "&emsp;__local variables__: _U_, _U&prime;_, vectors of utilities for states in _S_, initially zero  \n",
        "&emsp;&emsp;&emsp;&emsp;&emsp;&emsp;&emsp;&emsp;_&delta;_, the maximum change in the utility of any state in an iteration  \n",
        "\n",
        "&emsp;__repeat__  \n",
        "&emsp;&emsp;&emsp;_U_ &larr; _U&prime;_; _&delta;_ &larr; 0  \n",
        "&emsp;&emsp;&emsp;__for each__ state _s_ in _S_ __do__  \n",
        "&emsp;&emsp;&emsp;&emsp;&emsp;_U&prime;_\\[_s_\\] &larr; _R_(_s_) &plus; _&gamma;_ max<sub>_a_ &isin; _A_(_s_)</sub> &Sigma; _P_(_s&prime;_ &vert; _s_, _a_) _U_\\[_s&prime;_\\]  \n",
        "&emsp;&emsp;&emsp;&emsp;&emsp;__if__ &vert; _U&prime;_\\[_s_\\] &minus; _U_\\[_s_\\]  &vert; &gt; _&delta;_ __then__ _&delta;_ &larr; &vert; _U&prime;_\\[_s_\\] &minus; _U_\\[_s_\\]  &vert;  \n",
        "&emsp;__until__ _&delta;_ &lt; _&epsi;_(1 &minus; _&gamma;_)&sol;_&gamma;_  \n",
        "&emsp;__return__ _U_  \n",
        "\n",
        "---\n",
        "__Figure ??__ The value iteration algorithm for calculating utilities of states. The termination condition is from Equation (__??__)."
      ]
    },
    {
      "cell_type": "code",
      "execution_count": null,
      "metadata": {
        "collapsed": true,
        "id": "7mC0pCcsZUpk"
      },
      "outputs": [],
      "source": [
        "def value_iteration_instru(mdp, iterations=20):\n",
        "    U_over_time = []\n",
        "    U1 = {s: 0 for s in mdp.states}\n",
        "    R, T, gamma = mdp.R, mdp.T, mdp.gamma\n",
        "    for _ in range(iterations):\n",
        "        U = U1.copy()\n",
        "        for s in mdp.states:\n",
        "            U1[s] = R(s) + gamma * max([sum([p * U[s1] for (p, s1) in T(s, a)])\n",
        "                                        for a in mdp.actions(s)])\n",
        "        U_over_time.append(U)\n",
        "    return U_over_time"
      ]
    },
    {
      "cell_type": "markdown",
      "metadata": {
        "id": "vUplDnr-ZUpk"
      },
      "source": [
        "Next, we define a function to create the visualisation from the utilities returned by **value_iteration_instru**. The reader need not concern himself with the code that immediately follows as it is the usage of Matplotib with IPython Widgets. If you are interested in reading more about these visit [ipywidgets.readthedocs.io](http://ipywidgets.readthedocs.io)"
      ]
    },
    {
      "cell_type": "code",
      "execution_count": null,
      "metadata": {
        "collapsed": true,
        "id": "XDUteqouZUpk"
      },
      "outputs": [],
      "source": [
        "columns = 4\n",
        "rows = 3\n",
        "U_over_time = value_iteration_instru(sequential_decision_environment)"
      ]
    },
    {
      "cell_type": "code",
      "execution_count": null,
      "metadata": {
        "collapsed": true,
        "id": "e0VpPx-aZUpl"
      },
      "outputs": [],
      "source": [
        "%matplotlib inline\n",
        "from notebook import make_plot_grid_step_function\n",
        "\n",
        "plot_grid_step = make_plot_grid_step_function(columns, rows, U_over_time)"
      ]
    },
    {
      "cell_type": "code",
      "execution_count": null,
      "metadata": {
        "scrolled": true,
        "colab": {
          "referenced_widgets": [
            "77e9849e074841e49d8b0ebc8191507c"
          ]
        },
        "id": "VXnbqisVZUpl",
        "outputId": "c8d45b3e-8629-459e-ee5b-5585d2448228"
      },
      "outputs": [
        {
          "data": {
            "image/png": "[encoded data removed]",
            "text/plain": [
              "<matplotlib.figure.Figure at 0x1d38c9c67f0>"
            ]
          },
          "metadata": {},
          "output_type": "display_data"
        },
        {
          "name": "stderr",
          "output_type": "stream",
          "text": [
            "The installed widget Javascript is the wrong version. It must satisfy the semver range ~2.1.4.\n"
          ]
        },
        {
          "data": {
            "application/vnd.jupyter.widget-view+json": {
              "model_id": "77e9849e074841e49d8b0ebc8191507c"
            }
          },
          "metadata": {},
          "output_type": "display_data"
        }
      ],
      "source": [
        "import ipywidgets as widgets\n",
        "from IPython.display import display\n",
        "from notebook import make_visualize\n",
        "\n",
        "iteration_slider = widgets.IntSlider(min=1, max=15, step=1, value=0)\n",
        "w=widgets.interactive(plot_grid_step,iteration=iteration_slider)\n",
        "display(w)\n",
        "\n",
        "visualize_callback = make_visualize(iteration_slider)\n",
        "\n",
        "visualize_button = widgets.ToggleButton(description = \"Visualize\", value = False)\n",
        "time_select = widgets.ToggleButtons(description='Extra Delay:',options=['0', '0.1', '0.2', '0.5', '0.7', '1.0'])\n",
        "a = widgets.interactive(visualize_callback, Visualize = visualize_button, time_step=time_select)\n",
        "display(a)"
      ]
    },
    {
      "cell_type": "markdown",
      "metadata": {
        "id": "vzxRLJsbZUpl"
      },
      "source": [
        "Move the slider above to observe how the utility changes across iterations. It is also possible to move the slider using arrow keys or to jump to the value by directly editing the number with a double click. The **Visualize Button** will automatically animate the slider for you. The **Extra Delay Box** allows you to set time delay in seconds upto one second for each time step. There is also an interactive editor for grid-world problems `grid_mdp.py` in the gui folder for you to play around with."
      ]
    },
    {
      "cell_type": "code",
      "execution_count": null,
      "metadata": {
        "id": "-UeXc6WdZUpn",
        "outputId": "5b878106-e7f3-45ae-efb1-44b7aa71a95b"
      },
      "outputs": [
        {
          "data": {
            "text/html": [
              "<!DOCTYPE html PUBLIC \"-//W3C//DTD HTML 4.01//EN\"\n",
              "   \"http://www.w3.org/TR/html4/strict.dtd\">\n",
              "\n",
              "<html>\n",
              "<head>\n",
              "  <title></title>\n",
              "  <meta http-equiv=\"content-type\" content=\"text/html; charset=None\">\n",
              "  <style type=\"text/css\">\n",
              "td.linenos { background-color: #f0f0f0; padding-right: 10px; }\n",
              "span.lineno { background-color: #f0f0f0; padding: 0 5px 0 5px; }\n",
              "pre { line-height: 125%; }\n",
              "body .hll { background-color: #ffffcc }\n",
              "body  { background: #f8f8f8; }\n",
              "body .c { color: #408080; font-style: italic } /* Comment */\n",
              "body .err { border: 1px solid #FF0000 } /* Error */\n",
              "body .k { color: #008000; font-weight: bold } /* Keyword */\n",
              "body .o { color: #666666 } /* Operator */\n",
              "body .ch { color: #408080; font-style: italic } /* Comment.Hashbang */\n",
              "body .cm { color: #408080; font-style: italic } /* Comment.Multiline */\n",
              "body .cp { color: #BC7A00 } /* Comment.Preproc */\n",
              "body .cpf { color: #408080; font-style: italic } /* Comment.PreprocFile */\n",
              "body .c1 { color: #408080; font-style: italic } /* Comment.Single */\n",
              "body .cs { color: #408080; font-style: italic } /* Comment.Special */\n",
              "body .gd { color: #A00000 } /* Generic.Deleted */\n",
              "body .ge { font-style: italic } /* Generic.Emph */\n",
              "body .gr { color: #FF0000 } /* Generic.Error */\n",
              "body .gh { color: #000080; font-weight: bold } /* Generic.Heading */\n",
              "body .gi { color: #00A000 } /* Generic.Inserted */\n",
              "body .go { color: #888888 } /* Generic.Output */\n",
              "body .gp { color: #000080; font-weight: bold } /* Generic.Prompt */\n",
              "body .gs { font-weight: bold } /* Generic.Strong */\n",
              "body .gu { color: #800080; font-weight: bold } /* Generic.Subheading */\n",
              "body .gt { color: #0044DD } /* Generic.Traceback */\n",
              "body .kc { color: #008000; font-weight: bold } /* Keyword.Constant */\n",
              "body .kd { color: #008000; font-weight: bold } /* Keyword.Declaration */\n",
              "body .kn { color: #008000; font-weight: bold } /* Keyword.Namespace */\n",
              "body .kp { color: #008000 } /* Keyword.Pseudo */\n",
              "body .kr { color: #008000; font-weight: bold } /* Keyword.Reserved */\n",
              "body .kt { color: #B00040 } /* Keyword.Type */\n",
              "body .m { color: #666666 } /* Literal.Number */\n",
              "body .s { color: #BA2121 } /* Literal.String */\n",
              "body .na { color: #7D9029 } /* Name.Attribute */\n",
              "body .nb { color: #008000 } /* Name.Builtin */\n",
              "body .nc { color: #0000FF; font-weight: bold } /* Name.Class */\n",
              "body .no { color: #880000 } /* Name.Constant */\n",
              "body .nd { color: #AA22FF } /* Name.Decorator */\n",
              "body .ni { color: #999999; font-weight: bold } /* Name.Entity */\n",
              "body .ne { color: #D2413A; font-weight: bold } /* Name.Exception */\n",
              "body .nf { color: #0000FF } /* Name.Function */\n",
              "body .nl { color: #A0A000 } /* Name.Label */\n",
              "body .nn { color: #0000FF; font-weight: bold } /* Name.Namespace */\n",
              "body .nt { color: #008000; font-weight: bold } /* Name.Tag */\n",
              "body .nv { color: #19177C } /* Name.Variable */\n",
              "body .ow { color: #AA22FF; font-weight: bold } /* Operator.Word */\n",
              "body .w { color: #bbbbbb } /* Text.Whitespace */\n",
              "body .mb { color: #666666 } /* Literal.Number.Bin */\n",
              "body .mf { color: #666666 } /* Literal.Number.Float */\n",
              "body .mh { color: #666666 } /* Literal.Number.Hex */\n",
              "body .mi { color: #666666 } /* Literal.Number.Integer */\n",
              "body .mo { color: #666666 } /* Literal.Number.Oct */\n",
              "body .sa { color: #BA2121 } /* Literal.String.Affix */\n",
              "body .sb { color: #BA2121 } /* Literal.String.Backtick */\n",
              "body .sc { color: #BA2121 } /* Literal.String.Char */\n",
              "body .dl { color: #BA2121 } /* Literal.String.Delimiter */\n",
              "body .sd { color: #BA2121; font-style: italic } /* Literal.String.Doc */\n",
              "body .s2 { color: #BA2121 } /* Literal.String.Double */\n",
              "body .se { color: #BB6622; font-weight: bold } /* Literal.String.Escape */\n",
              "body .sh { color: #BA2121 } /* Literal.String.Heredoc */\n",
              "body .si { color: #BB6688; font-weight: bold } /* Literal.String.Interpol */\n",
              "body .sx { color: #008000 } /* Literal.String.Other */\n",
              "body .sr { color: #BB6688 } /* Literal.String.Regex */\n",
              "body .s1 { color: #BA2121 } /* Literal.String.Single */\n",
              "body .ss { color: #19177C } /* Literal.String.Symbol */\n",
              "body .bp { color: #008000 } /* Name.Builtin.Pseudo */\n",
              "body .fm { color: #0000FF } /* Name.Function.Magic */\n",
              "body .vc { color: #19177C } /* Name.Variable.Class */\n",
              "body .vg { color: #19177C } /* Name.Variable.Global */\n",
              "body .vi { color: #19177C } /* Name.Variable.Instance */\n",
              "body .vm { color: #19177C } /* Name.Variable.Magic */\n",
              "body .il { color: #666666 } /* Literal.Number.Integer.Long */\n",
              "\n",
              "  </style>\n",
              "</head>\n",
              "<body>\n",
              "<h2></h2>\n",
              "\n",
              "<div class=\"highlight\"><pre><span></span><span class=\"k\">def</span> <span class=\"nf\">expected_utility</span><span class=\"p\">(</span><span class=\"n\">a</span><span class=\"p\">,</span> <span class=\"n\">s</span><span class=\"p\">,</span> <span class=\"n\">U</span><span class=\"p\">,</span> <span class=\"n\">mdp</span><span class=\"p\">):</span>\n",
              "    <span class=\"sd\">&quot;&quot;&quot;The expected utility of doing a in state s, according to the MDP and U.&quot;&quot;&quot;</span>\n",
              "    <span class=\"k\">return</span> <span class=\"nb\">sum</span><span class=\"p\">([</span><span class=\"n\">p</span> <span class=\"o\">*</span> <span class=\"n\">U</span><span class=\"p\">[</span><span class=\"n\">s1</span><span class=\"p\">]</span> <span class=\"k\">for</span> <span class=\"p\">(</span><span class=\"n\">p</span><span class=\"p\">,</span> <span class=\"n\">s1</span><span class=\"p\">)</span> <span class=\"ow\">in</span> <span class=\"n\">mdp</span><span class=\"o\">.</span><span class=\"n\">T</span><span class=\"p\">(</span><span class=\"n\">s</span><span class=\"p\">,</span> <span class=\"n\">a</span><span class=\"p\">)])</span>\n",
              "</pre></div>\n",
              "</body>\n",
              "</html>\n"
            ],
            "text/plain": [
              "<IPython.core.display.HTML object>"
            ]
          },
          "metadata": {},
          "output_type": "display_data"
        }
      ],
      "source": [
        "psource(expected_utility)"
      ]
    },
    {
      "cell_type": "code",
      "execution_count": null,
      "metadata": {
        "id": "-h8zAAQOZUpn",
        "outputId": "1a209d83-dfe1-41e0-a6c9-412bf0271865"
      },
      "outputs": [
        {
          "data": {
            "text/html": [
              "<!DOCTYPE html PUBLIC \"-//W3C//DTD HTML 4.01//EN\"\n",
              "   \"http://www.w3.org/TR/html4/strict.dtd\">\n",
              "\n",
              "<html>\n",
              "<head>\n",
              "  <title></title>\n",
              "  <meta http-equiv=\"content-type\" content=\"text/html; charset=None\">\n",
              "  <style type=\"text/css\">\n",
              "td.linenos { background-color: #f0f0f0; padding-right: 10px; }\n",
              "span.lineno { background-color: #f0f0f0; padding: 0 5px 0 5px; }\n",
              "pre { line-height: 125%; }\n",
              "body .hll { background-color: #ffffcc }\n",
              "body  { background: #f8f8f8; }\n",
              "body .c { color: #408080; font-style: italic } /* Comment */\n",
              "body .err { border: 1px solid #FF0000 } /* Error */\n",
              "body .k { color: #008000; font-weight: bold } /* Keyword */\n",
              "body .o { color: #666666 } /* Operator */\n",
              "body .ch { color: #408080; font-style: italic } /* Comment.Hashbang */\n",
              "body .cm { color: #408080; font-style: italic } /* Comment.Multiline */\n",
              "body .cp { color: #BC7A00 } /* Comment.Preproc */\n",
              "body .cpf { color: #408080; font-style: italic } /* Comment.PreprocFile */\n",
              "body .c1 { color: #408080; font-style: italic } /* Comment.Single */\n",
              "body .cs { color: #408080; font-style: italic } /* Comment.Special */\n",
              "body .gd { color: #A00000 } /* Generic.Deleted */\n",
              "body .ge { font-style: italic } /* Generic.Emph */\n",
              "body .gr { color: #FF0000 } /* Generic.Error */\n",
              "body .gh { color: #000080; font-weight: bold } /* Generic.Heading */\n",
              "body .gi { color: #00A000 } /* Generic.Inserted */\n",
              "body .go { color: #888888 } /* Generic.Output */\n",
              "body .gp { color: #000080; font-weight: bold } /* Generic.Prompt */\n",
              "body .gs { font-weight: bold } /* Generic.Strong */\n",
              "body .gu { color: #800080; font-weight: bold } /* Generic.Subheading */\n",
              "body .gt { color: #0044DD } /* Generic.Traceback */\n",
              "body .kc { color: #008000; font-weight: bold } /* Keyword.Constant */\n",
              "body .kd { color: #008000; font-weight: bold } /* Keyword.Declaration */\n",
              "body .kn { color: #008000; font-weight: bold } /* Keyword.Namespace */\n",
              "body .kp { color: #008000 } /* Keyword.Pseudo */\n",
              "body .kr { color: #008000; font-weight: bold } /* Keyword.Reserved */\n",
              "body .kt { color: #B00040 } /* Keyword.Type */\n",
              "body .m { color: #666666 } /* Literal.Number */\n",
              "body .s { color: #BA2121 } /* Literal.String */\n",
              "body .na { color: #7D9029 } /* Name.Attribute */\n",
              "body .nb { color: #008000 } /* Name.Builtin */\n",
              "body .nc { color: #0000FF; font-weight: bold } /* Name.Class */\n",
              "body .no { color: #880000 } /* Name.Constant */\n",
              "body .nd { color: #AA22FF } /* Name.Decorator */\n",
              "body .ni { color: #999999; font-weight: bold } /* Name.Entity */\n",
              "body .ne { color: #D2413A; font-weight: bold } /* Name.Exception */\n",
              "body .nf { color: #0000FF } /* Name.Function */\n",
              "body .nl { color: #A0A000 } /* Name.Label */\n",
              "body .nn { color: #0000FF; font-weight: bold } /* Name.Namespace */\n",
              "body .nt { color: #008000; font-weight: bold } /* Name.Tag */\n",
              "body .nv { color: #19177C } /* Name.Variable */\n",
              "body .ow { color: #AA22FF; font-weight: bold } /* Operator.Word */\n",
              "body .w { color: #bbbbbb } /* Text.Whitespace */\n",
              "body .mb { color: #666666 } /* Literal.Number.Bin */\n",
              "body .mf { color: #666666 } /* Literal.Number.Float */\n",
              "body .mh { color: #666666 } /* Literal.Number.Hex */\n",
              "body .mi { color: #666666 } /* Literal.Number.Integer */\n",
              "body .mo { color: #666666 } /* Literal.Number.Oct */\n",
              "body .sa { color: #BA2121 } /* Literal.String.Affix */\n",
              "body .sb { color: #BA2121 } /* Literal.String.Backtick */\n",
              "body .sc { color: #BA2121 } /* Literal.String.Char */\n",
              "body .dl { color: #BA2121 } /* Literal.String.Delimiter */\n",
              "body .sd { color: #BA2121; font-style: italic } /* Literal.String.Doc */\n",
              "body .s2 { color: #BA2121 } /* Literal.String.Double */\n",
              "body .se { color: #BB6622; font-weight: bold } /* Literal.String.Escape */\n",
              "body .sh { color: #BA2121 } /* Literal.String.Heredoc */\n",
              "body .si { color: #BB6688; font-weight: bold } /* Literal.String.Interpol */\n",
              "body .sx { color: #008000 } /* Literal.String.Other */\n",
              "body .sr { color: #BB6688 } /* Literal.String.Regex */\n",
              "body .s1 { color: #BA2121 } /* Literal.String.Single */\n",
              "body .ss { color: #19177C } /* Literal.String.Symbol */\n",
              "body .bp { color: #008000 } /* Name.Builtin.Pseudo */\n",
              "body .fm { color: #0000FF } /* Name.Function.Magic */\n",
              "body .vc { color: #19177C } /* Name.Variable.Class */\n",
              "body .vg { color: #19177C } /* Name.Variable.Global */\n",
              "body .vi { color: #19177C } /* Name.Variable.Instance */\n",
              "body .vm { color: #19177C } /* Name.Variable.Magic */\n",
              "body .il { color: #666666 } /* Literal.Number.Integer.Long */\n",
              "\n",
              "  </style>\n",
              "</head>\n",
              "<body>\n",
              "<h2></h2>\n",
              "\n",
              "<div class=\"highlight\"><pre><span></span><span class=\"k\">def</span> <span class=\"nf\">policy_iteration</span><span class=\"p\">(</span><span class=\"n\">mdp</span><span class=\"p\">):</span>\n",
              "    <span class=\"sd\">&quot;&quot;&quot;Solve an MDP by policy iteration [Figure 17.7]&quot;&quot;&quot;</span>\n",
              "    <span class=\"n\">U</span> <span class=\"o\">=</span> <span class=\"p\">{</span><span class=\"n\">s</span><span class=\"p\">:</span> <span class=\"mi\">0</span> <span class=\"k\">for</span> <span class=\"n\">s</span> <span class=\"ow\">in</span> <span class=\"n\">mdp</span><span class=\"o\">.</span><span class=\"n\">states</span><span class=\"p\">}</span>\n",
              "    <span class=\"n\">pi</span> <span class=\"o\">=</span> <span class=\"p\">{</span><span class=\"n\">s</span><span class=\"p\">:</span> <span class=\"n\">random</span><span class=\"o\">.</span><span class=\"n\">choice</span><span class=\"p\">(</span><span class=\"n\">mdp</span><span class=\"o\">.</span><span class=\"n\">actions</span><span class=\"p\">(</span><span class=\"n\">s</span><span class=\"p\">))</span> <span class=\"k\">for</span> <span class=\"n\">s</span> <span class=\"ow\">in</span> <span class=\"n\">mdp</span><span class=\"o\">.</span><span class=\"n\">states</span><span class=\"p\">}</span>\n",
              "    <span class=\"k\">while</span> <span class=\"bp\">True</span><span class=\"p\">:</span>\n",
              "        <span class=\"n\">U</span> <span class=\"o\">=</span> <span class=\"n\">policy_evaluation</span><span class=\"p\">(</span><span class=\"n\">pi</span><span class=\"p\">,</span> <span class=\"n\">U</span><span class=\"p\">,</span> <span class=\"n\">mdp</span><span class=\"p\">)</span>\n",
              "        <span class=\"n\">unchanged</span> <span class=\"o\">=</span> <span class=\"bp\">True</span>\n",
              "        <span class=\"k\">for</span> <span class=\"n\">s</span> <span class=\"ow\">in</span> <span class=\"n\">mdp</span><span class=\"o\">.</span><span class=\"n\">states</span><span class=\"p\">:</span>\n",
              "            <span class=\"n\">a</span> <span class=\"o\">=</span> <span class=\"n\">argmax</span><span class=\"p\">(</span><span class=\"n\">mdp</span><span class=\"o\">.</span><span class=\"n\">actions</span><span class=\"p\">(</span><span class=\"n\">s</span><span class=\"p\">),</span> <span class=\"n\">key</span><span class=\"o\">=</span><span class=\"k\">lambda</span> <span class=\"n\">a</span><span class=\"p\">:</span> <span class=\"n\">expected_utility</span><span class=\"p\">(</span><span class=\"n\">a</span><span class=\"p\">,</span> <span class=\"n\">s</span><span class=\"p\">,</span> <span class=\"n\">U</span><span class=\"p\">,</span> <span class=\"n\">mdp</span><span class=\"p\">))</span>\n",
              "            <span class=\"k\">if</span> <span class=\"n\">a</span> <span class=\"o\">!=</span> <span class=\"n\">pi</span><span class=\"p\">[</span><span class=\"n\">s</span><span class=\"p\">]:</span>\n",
              "                <span class=\"n\">pi</span><span class=\"p\">[</span><span class=\"n\">s</span><span class=\"p\">]</span> <span class=\"o\">=</span> <span class=\"n\">a</span>\n",
              "                <span class=\"n\">unchanged</span> <span class=\"o\">=</span> <span class=\"bp\">False</span>\n",
              "        <span class=\"k\">if</span> <span class=\"n\">unchanged</span><span class=\"p\">:</span>\n",
              "            <span class=\"k\">return</span> <span class=\"n\">pi</span>\n",
              "</pre></div>\n",
              "</body>\n",
              "</html>\n"
            ],
            "text/plain": [
              "<IPython.core.display.HTML object>"
            ]
          },
          "metadata": {},
          "output_type": "display_data"
        }
      ],
      "source": [
        "psource(policy_iteration)"
      ]
    },
    {
      "cell_type": "markdown",
      "metadata": {
        "id": "gg9QInkPZUpo"
      },
      "source": [
        "<br>Fortunately, it is not necessary to do _exact_ policy evaluation.\n",
        "The utilities can instead be reasonably approximated by performing some number of simplified value iteration steps.\n",
        "The simplified Bellman update equation for the process is\n",
        "\n",
        "$$U_{i+1}(s) \\leftarrow R(s) + \\gamma\\sum_{s'}P(s'\\ |\\ s,\\pi_i(s))U_{i}(s')$$\n",
        "\n",
        "and this is repeated _k_ times to produce the next utility estimate. This is called _modified policy iteration_."
      ]
    },
    {
      "cell_type": "code",
      "execution_count": null,
      "metadata": {
        "id": "15idWhd1ZUpo",
        "outputId": "e36855f9-9085-4cc3-ffbb-09ffaa46b806"
      },
      "outputs": [
        {
          "data": {
            "text/html": [
              "<!DOCTYPE html PUBLIC \"-//W3C//DTD HTML 4.01//EN\"\n",
              "   \"http://www.w3.org/TR/html4/strict.dtd\">\n",
              "\n",
              "<html>\n",
              "<head>\n",
              "  <title></title>\n",
              "  <meta http-equiv=\"content-type\" content=\"text/html; charset=None\">\n",
              "  <style type=\"text/css\">\n",
              "td.linenos { background-color: #f0f0f0; padding-right: 10px; }\n",
              "span.lineno { background-color: #f0f0f0; padding: 0 5px 0 5px; }\n",
              "pre { line-height: 125%; }\n",
              "body .hll { background-color: #ffffcc }\n",
              "body  { background: #f8f8f8; }\n",
              "body .c { color: #408080; font-style: italic } /* Comment */\n",
              "body .err { border: 1px solid #FF0000 } /* Error */\n",
              "body .k { color: #008000; font-weight: bold } /* Keyword */\n",
              "body .o { color: #666666 } /* Operator */\n",
              "body .ch { color: #408080; font-style: italic } /* Comment.Hashbang */\n",
              "body .cm { color: #408080; font-style: italic } /* Comment.Multiline */\n",
              "body .cp { color: #BC7A00 } /* Comment.Preproc */\n",
              "body .cpf { color: #408080; font-style: italic } /* Comment.PreprocFile */\n",
              "body .c1 { color: #408080; font-style: italic } /* Comment.Single */\n",
              "body .cs { color: #408080; font-style: italic } /* Comment.Special */\n",
              "body .gd { color: #A00000 } /* Generic.Deleted */\n",
              "body .ge { font-style: italic } /* Generic.Emph */\n",
              "body .gr { color: #FF0000 } /* Generic.Error */\n",
              "body .gh { color: #000080; font-weight: bold } /* Generic.Heading */\n",
              "body .gi { color: #00A000 } /* Generic.Inserted */\n",
              "body .go { color: #888888 } /* Generic.Output */\n",
              "body .gp { color: #000080; font-weight: bold } /* Generic.Prompt */\n",
              "body .gs { font-weight: bold } /* Generic.Strong */\n",
              "body .gu { color: #800080; font-weight: bold } /* Generic.Subheading */\n",
              "body .gt { color: #0044DD } /* Generic.Traceback */\n",
              "body .kc { color: #008000; font-weight: bold } /* Keyword.Constant */\n",
              "body .kd { color: #008000; font-weight: bold } /* Keyword.Declaration */\n",
              "body .kn { color: #008000; font-weight: bold } /* Keyword.Namespace */\n",
              "body .kp { color: #008000 } /* Keyword.Pseudo */\n",
              "body .kr { color: #008000; font-weight: bold } /* Keyword.Reserved */\n",
              "body .kt { color: #B00040 } /* Keyword.Type */\n",
              "body .m { color: #666666 } /* Literal.Number */\n",
              "body .s { color: #BA2121 } /* Literal.String */\n",
              "body .na { color: #7D9029 } /* Name.Attribute */\n",
              "body .nb { color: #008000 } /* Name.Builtin */\n",
              "body .nc { color: #0000FF; font-weight: bold } /* Name.Class */\n",
              "body .no { color: #880000 } /* Name.Constant */\n",
              "body .nd { color: #AA22FF } /* Name.Decorator */\n",
              "body .ni { color: #999999; font-weight: bold } /* Name.Entity */\n",
              "body .ne { color: #D2413A; font-weight: bold } /* Name.Exception */\n",
              "body .nf { color: #0000FF } /* Name.Function */\n",
              "body .nl { color: #A0A000 } /* Name.Label */\n",
              "body .nn { color: #0000FF; font-weight: bold } /* Name.Namespace */\n",
              "body .nt { color: #008000; font-weight: bold } /* Name.Tag */\n",
              "body .nv { color: #19177C } /* Name.Variable */\n",
              "body .ow { color: #AA22FF; font-weight: bold } /* Operator.Word */\n",
              "body .w { color: #bbbbbb } /* Text.Whitespace */\n",
              "body .mb { color: #666666 } /* Literal.Number.Bin */\n",
              "body .mf { color: #666666 } /* Literal.Number.Float */\n",
              "body .mh { color: #666666 } /* Literal.Number.Hex */\n",
              "body .mi { color: #666666 } /* Literal.Number.Integer */\n",
              "body .mo { color: #666666 } /* Literal.Number.Oct */\n",
              "body .sa { color: #BA2121 } /* Literal.String.Affix */\n",
              "body .sb { color: #BA2121 } /* Literal.String.Backtick */\n",
              "body .sc { color: #BA2121 } /* Literal.String.Char */\n",
              "body .dl { color: #BA2121 } /* Literal.String.Delimiter */\n",
              "body .sd { color: #BA2121; font-style: italic } /* Literal.String.Doc */\n",
              "body .s2 { color: #BA2121 } /* Literal.String.Double */\n",
              "body .se { color: #BB6622; font-weight: bold } /* Literal.String.Escape */\n",
              "body .sh { color: #BA2121 } /* Literal.String.Heredoc */\n",
              "body .si { color: #BB6688; font-weight: bold } /* Literal.String.Interpol */\n",
              "body .sx { color: #008000 } /* Literal.String.Other */\n",
              "body .sr { color: #BB6688 } /* Literal.String.Regex */\n",
              "body .s1 { color: #BA2121 } /* Literal.String.Single */\n",
              "body .ss { color: #19177C } /* Literal.String.Symbol */\n",
              "body .bp { color: #008000 } /* Name.Builtin.Pseudo */\n",
              "body .fm { color: #0000FF } /* Name.Function.Magic */\n",
              "body .vc { color: #19177C } /* Name.Variable.Class */\n",
              "body .vg { color: #19177C } /* Name.Variable.Global */\n",
              "body .vi { color: #19177C } /* Name.Variable.Instance */\n",
              "body .vm { color: #19177C } /* Name.Variable.Magic */\n",
              "body .il { color: #666666 } /* Literal.Number.Integer.Long */\n",
              "\n",
              "  </style>\n",
              "</head>\n",
              "<body>\n",
              "<h2></h2>\n",
              "\n",
              "<div class=\"highlight\"><pre><span></span><span class=\"k\">def</span> <span class=\"nf\">policy_evaluation</span><span class=\"p\">(</span><span class=\"n\">pi</span><span class=\"p\">,</span> <span class=\"n\">U</span><span class=\"p\">,</span> <span class=\"n\">mdp</span><span class=\"p\">,</span> <span class=\"n\">k</span><span class=\"o\">=</span><span class=\"mi\">20</span><span class=\"p\">):</span>\n",
              "    <span class=\"sd\">&quot;&quot;&quot;Return an updated utility mapping U from each state in the MDP to its</span>\n",
              "<span class=\"sd\">    utility, using an approximation (modified policy iteration).&quot;&quot;&quot;</span>\n",
              "    <span class=\"n\">R</span><span class=\"p\">,</span> <span class=\"n\">T</span><span class=\"p\">,</span> <span class=\"n\">gamma</span> <span class=\"o\">=</span> <span class=\"n\">mdp</span><span class=\"o\">.</span><span class=\"n\">R</span><span class=\"p\">,</span> <span class=\"n\">mdp</span><span class=\"o\">.</span><span class=\"n\">T</span><span class=\"p\">,</span> <span class=\"n\">mdp</span><span class=\"o\">.</span><span class=\"n\">gamma</span>\n",
              "    <span class=\"k\">for</span> <span class=\"n\">i</span> <span class=\"ow\">in</span> <span class=\"nb\">range</span><span class=\"p\">(</span><span class=\"n\">k</span><span class=\"p\">):</span>\n",
              "        <span class=\"k\">for</span> <span class=\"n\">s</span> <span class=\"ow\">in</span> <span class=\"n\">mdp</span><span class=\"o\">.</span><span class=\"n\">states</span><span class=\"p\">:</span>\n",
              "            <span class=\"n\">U</span><span class=\"p\">[</span><span class=\"n\">s</span><span class=\"p\">]</span> <span class=\"o\">=</span> <span class=\"n\">R</span><span class=\"p\">(</span><span class=\"n\">s</span><span class=\"p\">)</span> <span class=\"o\">+</span> <span class=\"n\">gamma</span> <span class=\"o\">*</span> <span class=\"nb\">sum</span><span class=\"p\">([</span><span class=\"n\">p</span> <span class=\"o\">*</span> <span class=\"n\">U</span><span class=\"p\">[</span><span class=\"n\">s1</span><span class=\"p\">]</span> <span class=\"k\">for</span> <span class=\"p\">(</span><span class=\"n\">p</span><span class=\"p\">,</span> <span class=\"n\">s1</span><span class=\"p\">)</span> <span class=\"ow\">in</span> <span class=\"n\">T</span><span class=\"p\">(</span><span class=\"n\">s</span><span class=\"p\">,</span> <span class=\"n\">pi</span><span class=\"p\">[</span><span class=\"n\">s</span><span class=\"p\">])])</span>\n",
              "    <span class=\"k\">return</span> <span class=\"n\">U</span>\n",
              "</pre></div>\n",
              "</body>\n",
              "</html>\n"
            ],
            "text/plain": [
              "<IPython.core.display.HTML object>"
            ]
          },
          "metadata": {},
          "output_type": "display_data"
        }
      ],
      "source": [
        "psource(policy_evaluation)"
      ]
    },
    {
      "cell_type": "markdown",
      "metadata": {
        "id": "jGwyGEdMZUpo"
      },
      "source": [
        "Let us now solve **`sequential_decision_environment`** using `policy_iteration`."
      ]
    },
    {
      "cell_type": "code",
      "execution_count": null,
      "metadata": {
        "id": "loVc9suJZUpp",
        "outputId": "e446a944-5d7f-4cdf-aaee-556e5ca43ebb"
      },
      "outputs": [
        {
          "data": {
            "text/plain": [
              "{(0, 0): (0, 1),\n",
              " (0, 1): (0, 1),\n",
              " (0, 2): (1, 0),\n",
              " (1, 0): (1, 0),\n",
              " (1, 2): (1, 0),\n",
              " (2, 0): (0, 1),\n",
              " (2, 1): (0, 1),\n",
              " (2, 2): (1, 0),\n",
              " (3, 0): (-1, 0),\n",
              " (3, 1): None,\n",
              " (3, 2): None}"
            ]
          },
          "execution_count": 18,
          "metadata": {},
          "output_type": "execute_result"
        }
      ],
      "source": [
        "policy_iteration(sequential_decision_environment)"
      ]
    },
    {
      "cell_type": "code",
      "execution_count": null,
      "metadata": {
        "id": "sX6-sYteZUpq",
        "outputId": "7c240eca-b3f6-497e-e310-380d205faaa7"
      },
      "outputs": [
        {
          "data": {
            "text/markdown": [
              "### AIMA3e\n",
              "__function__ POLICY-ITERATION(_mdp_) __returns__ a policy  \n",
              "&emsp;__inputs__: _mdp_, an MDP with states _S_, actions _A_(_s_), transition model _P_(_s&prime;_ &vert; _s_, _a_)  \n",
              "&emsp;__local variables__: _U_, a vector of utilities for states in _S_, initially zero  \n",
              "&emsp;&emsp;&emsp;&emsp;&emsp;&emsp;&emsp;&emsp;_&pi;_, a policy vector indexed by state, initially random  \n",
              "\n",
              "&emsp;__repeat__  \n",
              "&emsp;&emsp;&emsp;_U_ &larr; POLICY\\-EVALUATION(_&pi;_, _U_, _mdp_)  \n",
              "&emsp;&emsp;&emsp;_unchanged?_ &larr; true  \n",
              "&emsp;&emsp;&emsp;__for each__ state _s_ __in__ _S_ __do__  \n",
              "&emsp;&emsp;&emsp;&emsp;&emsp;__if__ max<sub>_a_ &isin; _A_(_s_)</sub> &Sigma;<sub>_s&prime;_</sub> _P_(_s&prime;_ &vert; _s_, _a_) _U_\\[_s&prime;_\\] &gt; &Sigma;<sub>_s&prime;_</sub> _P_(_s&prime;_ &vert; _s_, _&pi;_\\[_s_\\]) _U_\\[_s&prime;_\\] __then do__  \n",
              "&emsp;&emsp;&emsp;&emsp;&emsp;&emsp;&emsp;_&pi;_\\[_s_\\] &larr; argmax<sub>_a_ &isin; _A_(_s_)</sub> &Sigma;<sub>_s&prime;_</sub> _P_(_s&prime;_ &vert; _s_, _a_) _U_\\[_s&prime;_\\]  \n",
              "&emsp;&emsp;&emsp;&emsp;&emsp;&emsp;&emsp;_unchanged?_ &larr; false  \n",
              "&emsp;__until__ _unchanged?_  \n",
              "&emsp;__return__ _&pi;_  \n",
              "\n",
              "---\n",
              "__Figure ??__ The policy iteration algorithm for calculating an optimal policy."
            ],
            "text/plain": [
              "<IPython.core.display.Markdown object>"
            ]
          },
          "execution_count": 19,
          "metadata": {},
          "output_type": "execute_result"
        }
      ],
      "source": [
        "pseudocode('Policy-Iteration')"
      ]
    },
    {
      "cell_type": "markdown",
      "metadata": {
        "id": "If0UAq4NZUpr"
      },
      "source": [
        "These properties of the agent are called the transition properties and are hardcoded into the GridMDP class as you can see below."
      ]
    },
    {
      "cell_type": "code",
      "execution_count": null,
      "metadata": {
        "id": "JvpcN9zSZUps",
        "outputId": "12df0362-c63c-4b02-c3b5-3d2d43f64d59"
      },
      "outputs": [
        {
          "data": {
            "text/html": [
              "<!DOCTYPE html PUBLIC \"-//W3C//DTD HTML 4.01//EN\"\n",
              "   \"http://www.w3.org/TR/html4/strict.dtd\">\n",
              "\n",
              "<html>\n",
              "<head>\n",
              "  <title></title>\n",
              "  <meta http-equiv=\"content-type\" content=\"text/html; charset=None\">\n",
              "  <style type=\"text/css\">\n",
              "td.linenos { background-color: #f0f0f0; padding-right: 10px; }\n",
              "span.lineno { background-color: #f0f0f0; padding: 0 5px 0 5px; }\n",
              "pre { line-height: 125%; }\n",
              "body .hll { background-color: #ffffcc }\n",
              "body  { background: #f8f8f8; }\n",
              "body .c { color: #408080; font-style: italic } /* Comment */\n",
              "body .err { border: 1px solid #FF0000 } /* Error */\n",
              "body .k { color: #008000; font-weight: bold } /* Keyword */\n",
              "body .o { color: #666666 } /* Operator */\n",
              "body .ch { color: #408080; font-style: italic } /* Comment.Hashbang */\n",
              "body .cm { color: #408080; font-style: italic } /* Comment.Multiline */\n",
              "body .cp { color: #BC7A00 } /* Comment.Preproc */\n",
              "body .cpf { color: #408080; font-style: italic } /* Comment.PreprocFile */\n",
              "body .c1 { color: #408080; font-style: italic } /* Comment.Single */\n",
              "body .cs { color: #408080; font-style: italic } /* Comment.Special */\n",
              "body .gd { color: #A00000 } /* Generic.Deleted */\n",
              "body .ge { font-style: italic } /* Generic.Emph */\n",
              "body .gr { color: #FF0000 } /* Generic.Error */\n",
              "body .gh { color: #000080; font-weight: bold } /* Generic.Heading */\n",
              "body .gi { color: #00A000 } /* Generic.Inserted */\n",
              "body .go { color: #888888 } /* Generic.Output */\n",
              "body .gp { color: #000080; font-weight: bold } /* Generic.Prompt */\n",
              "body .gs { font-weight: bold } /* Generic.Strong */\n",
              "body .gu { color: #800080; font-weight: bold } /* Generic.Subheading */\n",
              "body .gt { color: #0044DD } /* Generic.Traceback */\n",
              "body .kc { color: #008000; font-weight: bold } /* Keyword.Constant */\n",
              "body .kd { color: #008000; font-weight: bold } /* Keyword.Declaration */\n",
              "body .kn { color: #008000; font-weight: bold } /* Keyword.Namespace */\n",
              "body .kp { color: #008000 } /* Keyword.Pseudo */\n",
              "body .kr { color: #008000; font-weight: bold } /* Keyword.Reserved */\n",
              "body .kt { color: #B00040 } /* Keyword.Type */\n",
              "body .m { color: #666666 } /* Literal.Number */\n",
              "body .s { color: #BA2121 } /* Literal.String */\n",
              "body .na { color: #7D9029 } /* Name.Attribute */\n",
              "body .nb { color: #008000 } /* Name.Builtin */\n",
              "body .nc { color: #0000FF; font-weight: bold } /* Name.Class */\n",
              "body .no { color: #880000 } /* Name.Constant */\n",
              "body .nd { color: #AA22FF } /* Name.Decorator */\n",
              "body .ni { color: #999999; font-weight: bold } /* Name.Entity */\n",
              "body .ne { color: #D2413A; font-weight: bold } /* Name.Exception */\n",
              "body .nf { color: #0000FF } /* Name.Function */\n",
              "body .nl { color: #A0A000 } /* Name.Label */\n",
              "body .nn { color: #0000FF; font-weight: bold } /* Name.Namespace */\n",
              "body .nt { color: #008000; font-weight: bold } /* Name.Tag */\n",
              "body .nv { color: #19177C } /* Name.Variable */\n",
              "body .ow { color: #AA22FF; font-weight: bold } /* Operator.Word */\n",
              "body .w { color: #bbbbbb } /* Text.Whitespace */\n",
              "body .mb { color: #666666 } /* Literal.Number.Bin */\n",
              "body .mf { color: #666666 } /* Literal.Number.Float */\n",
              "body .mh { color: #666666 } /* Literal.Number.Hex */\n",
              "body .mi { color: #666666 } /* Literal.Number.Integer */\n",
              "body .mo { color: #666666 } /* Literal.Number.Oct */\n",
              "body .sa { color: #BA2121 } /* Literal.String.Affix */\n",
              "body .sb { color: #BA2121 } /* Literal.String.Backtick */\n",
              "body .sc { color: #BA2121 } /* Literal.String.Char */\n",
              "body .dl { color: #BA2121 } /* Literal.String.Delimiter */\n",
              "body .sd { color: #BA2121; font-style: italic } /* Literal.String.Doc */\n",
              "body .s2 { color: #BA2121 } /* Literal.String.Double */\n",
              "body .se { color: #BB6622; font-weight: bold } /* Literal.String.Escape */\n",
              "body .sh { color: #BA2121 } /* Literal.String.Heredoc */\n",
              "body .si { color: #BB6688; font-weight: bold } /* Literal.String.Interpol */\n",
              "body .sx { color: #008000 } /* Literal.String.Other */\n",
              "body .sr { color: #BB6688 } /* Literal.String.Regex */\n",
              "body .s1 { color: #BA2121 } /* Literal.String.Single */\n",
              "body .ss { color: #19177C } /* Literal.String.Symbol */\n",
              "body .bp { color: #008000 } /* Name.Builtin.Pseudo */\n",
              "body .fm { color: #0000FF } /* Name.Function.Magic */\n",
              "body .vc { color: #19177C } /* Name.Variable.Class */\n",
              "body .vg { color: #19177C } /* Name.Variable.Global */\n",
              "body .vi { color: #19177C } /* Name.Variable.Instance */\n",
              "body .vm { color: #19177C } /* Name.Variable.Magic */\n",
              "body .il { color: #666666 } /* Literal.Number.Integer.Long */\n",
              "\n",
              "  </style>\n",
              "</head>\n",
              "<body>\n",
              "<h2></h2>\n",
              "\n",
              "<div class=\"highlight\"><pre><span></span>    <span class=\"k\">def</span> <span class=\"nf\">T</span><span class=\"p\">(</span><span class=\"bp\">self</span><span class=\"p\">,</span> <span class=\"n\">state</span><span class=\"p\">,</span> <span class=\"n\">action</span><span class=\"p\">):</span>\n",
              "        <span class=\"k\">if</span> <span class=\"n\">action</span> <span class=\"ow\">is</span> <span class=\"bp\">None</span><span class=\"p\">:</span>\n",
              "            <span class=\"k\">return</span> <span class=\"p\">[(</span><span class=\"mf\">0.0</span><span class=\"p\">,</span> <span class=\"n\">state</span><span class=\"p\">)]</span>\n",
              "        <span class=\"k\">else</span><span class=\"p\">:</span>\n",
              "            <span class=\"k\">return</span> <span class=\"bp\">self</span><span class=\"o\">.</span><span class=\"n\">transitions</span><span class=\"p\">[</span><span class=\"n\">state</span><span class=\"p\">][</span><span class=\"n\">action</span><span class=\"p\">]</span>\n",
              "</pre></div>\n",
              "</body>\n",
              "</html>\n"
            ],
            "text/plain": [
              "<IPython.core.display.HTML object>"
            ]
          },
          "metadata": {},
          "output_type": "display_data"
        }
      ],
      "source": [
        "psource(GridMDP.T)"
      ]
    },
    {
      "cell_type": "markdown",
      "metadata": {
        "id": "c4nP0ibcZUps"
      },
      "source": [
        "To completely define our task environment, we need to specify the utility function for the agent.\n",
        "This is the function that gives the agent a rough estimate of how good being in a particular state is, or how much _reward_ an agent receives by being in that state.\n",
        "The agent then tries to maximize the reward it gets.\n",
        "As the decision problem is sequential, the utility function will depend on a sequence of states rather than on a single state.\n",
        "For now, we simply stipulate that in each state $s$, the agent receives a finite reward $R(s)$.\n",
        "\n",
        "For any given state, the actions the agent can take are encoded as given below:\n",
        "- Move Up: (0, 1)\n",
        "- Move Down: (0, -1)\n",
        "- Move Left: (-1, 0)\n",
        "- Move Right: (1, 0)\n",
        "- Do nothing: `None`\n",
        "\n",
        "We now wonder what a valid solution to the problem might look like.\n",
        "We cannot have fixed action sequences as the environment is stochastic and we can eventually end up in an undesirable state.\n",
        "Therefore, a solution must specify what the agent shoulddo for _any_ state the agent might reach.\n",
        "<br>\n",
        "Such a solution is known as a **policy** and is usually denoted by $\\pi$.\n",
        "<br>\n",
        "The **optimal policy** is the policy that yields the highest expected utility an is usually denoted by $\\pi^*$.\n",
        "<br>\n",
        "The `GridMDP` class has a useful method `to_arrows` that outputs a grid showing the direction the agent should move, given a policy.\n",
        "We will use this later to better understand the properties of the environment."
      ]
    },
    {
      "cell_type": "code",
      "execution_count": null,
      "metadata": {
        "id": "p0HzolpyZUps",
        "outputId": "b10f168c-8432-4613-a2b6-1158e1ed9bd5"
      },
      "outputs": [
        {
          "data": {
            "text/html": [
              "<!DOCTYPE html PUBLIC \"-//W3C//DTD HTML 4.01//EN\"\n",
              "   \"http://www.w3.org/TR/html4/strict.dtd\">\n",
              "\n",
              "<html>\n",
              "<head>\n",
              "  <title></title>\n",
              "  <meta http-equiv=\"content-type\" content=\"text/html; charset=None\">\n",
              "  <style type=\"text/css\">\n",
              "td.linenos { background-color: #f0f0f0; padding-right: 10px; }\n",
              "span.lineno { background-color: #f0f0f0; padding: 0 5px 0 5px; }\n",
              "pre { line-height: 125%; }\n",
              "body .hll { background-color: #ffffcc }\n",
              "body  { background: #f8f8f8; }\n",
              "body .c { color: #408080; font-style: italic } /* Comment */\n",
              "body .err { border: 1px solid #FF0000 } /* Error */\n",
              "body .k { color: #008000; font-weight: bold } /* Keyword */\n",
              "body .o { color: #666666 } /* Operator */\n",
              "body .ch { color: #408080; font-style: italic } /* Comment.Hashbang */\n",
              "body .cm { color: #408080; font-style: italic } /* Comment.Multiline */\n",
              "body .cp { color: #BC7A00 } /* Comment.Preproc */\n",
              "body .cpf { color: #408080; font-style: italic } /* Comment.PreprocFile */\n",
              "body .c1 { color: #408080; font-style: italic } /* Comment.Single */\n",
              "body .cs { color: #408080; font-style: italic } /* Comment.Special */\n",
              "body .gd { color: #A00000 } /* Generic.Deleted */\n",
              "body .ge { font-style: italic } /* Generic.Emph */\n",
              "body .gr { color: #FF0000 } /* Generic.Error */\n",
              "body .gh { color: #000080; font-weight: bold } /* Generic.Heading */\n",
              "body .gi { color: #00A000 } /* Generic.Inserted */\n",
              "body .go { color: #888888 } /* Generic.Output */\n",
              "body .gp { color: #000080; font-weight: bold } /* Generic.Prompt */\n",
              "body .gs { font-weight: bold } /* Generic.Strong */\n",
              "body .gu { color: #800080; font-weight: bold } /* Generic.Subheading */\n",
              "body .gt { color: #0044DD } /* Generic.Traceback */\n",
              "body .kc { color: #008000; font-weight: bold } /* Keyword.Constant */\n",
              "body .kd { color: #008000; font-weight: bold } /* Keyword.Declaration */\n",
              "body .kn { color: #008000; font-weight: bold } /* Keyword.Namespace */\n",
              "body .kp { color: #008000 } /* Keyword.Pseudo */\n",
              "body .kr { color: #008000; font-weight: bold } /* Keyword.Reserved */\n",
              "body .kt { color: #B00040 } /* Keyword.Type */\n",
              "body .m { color: #666666 } /* Literal.Number */\n",
              "body .s { color: #BA2121 } /* Literal.String */\n",
              "body .na { color: #7D9029 } /* Name.Attribute */\n",
              "body .nb { color: #008000 } /* Name.Builtin */\n",
              "body .nc { color: #0000FF; font-weight: bold } /* Name.Class */\n",
              "body .no { color: #880000 } /* Name.Constant */\n",
              "body .nd { color: #AA22FF } /* Name.Decorator */\n",
              "body .ni { color: #999999; font-weight: bold } /* Name.Entity */\n",
              "body .ne { color: #D2413A; font-weight: bold } /* Name.Exception */\n",
              "body .nf { color: #0000FF } /* Name.Function */\n",
              "body .nl { color: #A0A000 } /* Name.Label */\n",
              "body .nn { color: #0000FF; font-weight: bold } /* Name.Namespace */\n",
              "body .nt { color: #008000; font-weight: bold } /* Name.Tag */\n",
              "body .nv { color: #19177C } /* Name.Variable */\n",
              "body .ow { color: #AA22FF; font-weight: bold } /* Operator.Word */\n",
              "body .w { color: #bbbbbb } /* Text.Whitespace */\n",
              "body .mb { color: #666666 } /* Literal.Number.Bin */\n",
              "body .mf { color: #666666 } /* Literal.Number.Float */\n",
              "body .mh { color: #666666 } /* Literal.Number.Hex */\n",
              "body .mi { color: #666666 } /* Literal.Number.Integer */\n",
              "body .mo { color: #666666 } /* Literal.Number.Oct */\n",
              "body .sa { color: #BA2121 } /* Literal.String.Affix */\n",
              "body .sb { color: #BA2121 } /* Literal.String.Backtick */\n",
              "body .sc { color: #BA2121 } /* Literal.String.Char */\n",
              "body .dl { color: #BA2121 } /* Literal.String.Delimiter */\n",
              "body .sd { color: #BA2121; font-style: italic } /* Literal.String.Doc */\n",
              "body .s2 { color: #BA2121 } /* Literal.String.Double */\n",
              "body .se { color: #BB6622; font-weight: bold } /* Literal.String.Escape */\n",
              "body .sh { color: #BA2121 } /* Literal.String.Heredoc */\n",
              "body .si { color: #BB6688; font-weight: bold } /* Literal.String.Interpol */\n",
              "body .sx { color: #008000 } /* Literal.String.Other */\n",
              "body .sr { color: #BB6688 } /* Literal.String.Regex */\n",
              "body .s1 { color: #BA2121 } /* Literal.String.Single */\n",
              "body .ss { color: #19177C } /* Literal.String.Symbol */\n",
              "body .bp { color: #008000 } /* Name.Builtin.Pseudo */\n",
              "body .fm { color: #0000FF } /* Name.Function.Magic */\n",
              "body .vc { color: #19177C } /* Name.Variable.Class */\n",
              "body .vg { color: #19177C } /* Name.Variable.Global */\n",
              "body .vi { color: #19177C } /* Name.Variable.Instance */\n",
              "body .vm { color: #19177C } /* Name.Variable.Magic */\n",
              "body .il { color: #666666 } /* Literal.Number.Integer.Long */\n",
              "\n",
              "  </style>\n",
              "</head>\n",
              "<body>\n",
              "<h2></h2>\n",
              "\n",
              "<div class=\"highlight\"><pre><span></span>    <span class=\"k\">def</span> <span class=\"nf\">to_arrows</span><span class=\"p\">(</span><span class=\"bp\">self</span><span class=\"p\">,</span> <span class=\"n\">policy</span><span class=\"p\">):</span>\n",
              "        <span class=\"n\">chars</span> <span class=\"o\">=</span> <span class=\"p\">{</span>\n",
              "            <span class=\"p\">(</span><span class=\"mi\">1</span><span class=\"p\">,</span> <span class=\"mi\">0</span><span class=\"p\">):</span> <span class=\"s1\">&#39;&gt;&#39;</span><span class=\"p\">,</span> <span class=\"p\">(</span><span class=\"mi\">0</span><span class=\"p\">,</span> <span class=\"mi\">1</span><span class=\"p\">):</span> <span class=\"s1\">&#39;^&#39;</span><span class=\"p\">,</span> <span class=\"p\">(</span><span class=\"o\">-</span><span class=\"mi\">1</span><span class=\"p\">,</span> <span class=\"mi\">0</span><span class=\"p\">):</span> <span class=\"s1\">&#39;&lt;&#39;</span><span class=\"p\">,</span> <span class=\"p\">(</span><span class=\"mi\">0</span><span class=\"p\">,</span> <span class=\"o\">-</span><span class=\"mi\">1</span><span class=\"p\">):</span> <span class=\"s1\">&#39;v&#39;</span><span class=\"p\">,</span> <span class=\"bp\">None</span><span class=\"p\">:</span> <span class=\"s1\">&#39;.&#39;</span><span class=\"p\">}</span>\n",
              "        <span class=\"k\">return</span> <span class=\"bp\">self</span><span class=\"o\">.</span><span class=\"n\">to_grid</span><span class=\"p\">({</span><span class=\"n\">s</span><span class=\"p\">:</span> <span class=\"n\">chars</span><span class=\"p\">[</span><span class=\"n\">a</span><span class=\"p\">]</span> <span class=\"k\">for</span> <span class=\"p\">(</span><span class=\"n\">s</span><span class=\"p\">,</span> <span class=\"n\">a</span><span class=\"p\">)</span> <span class=\"ow\">in</span> <span class=\"n\">policy</span><span class=\"o\">.</span><span class=\"n\">items</span><span class=\"p\">()})</span>\n",
              "</pre></div>\n",
              "</body>\n",
              "</html>\n"
            ],
            "text/plain": [
              "<IPython.core.display.HTML object>"
            ]
          },
          "metadata": {},
          "output_type": "display_data"
        }
      ],
      "source": [
        "psource(GridMDP.to_arrows)"
      ]
    },
    {
      "cell_type": "markdown",
      "metadata": {
        "id": "gr8ZtiWfZUpt"
      },
      "source": [
        "This method directly encodes the actions that the agent can take (described above) to characters representing arrows and shows it in a grid format for human visalization purposes.\n",
        "It converts the received policy from a `dictionary` to a grid using the `to_grid` method."
      ]
    },
    {
      "cell_type": "code",
      "execution_count": null,
      "metadata": {
        "id": "2Nj9gjIMZUpt",
        "outputId": "48d08c7b-fd73-4866-acb3-5250d2da4b93"
      },
      "outputs": [
        {
          "data": {
            "text/html": [
              "<!DOCTYPE html PUBLIC \"-//W3C//DTD HTML 4.01//EN\"\n",
              "   \"http://www.w3.org/TR/html4/strict.dtd\">\n",
              "\n",
              "<html>\n",
              "<head>\n",
              "  <title></title>\n",
              "  <meta http-equiv=\"content-type\" content=\"text/html; charset=None\">\n",
              "  <style type=\"text/css\">\n",
              "td.linenos { background-color: #f0f0f0; padding-right: 10px; }\n",
              "span.lineno { background-color: #f0f0f0; padding: 0 5px 0 5px; }\n",
              "pre { line-height: 125%; }\n",
              "body .hll { background-color: #ffffcc }\n",
              "body  { background: #f8f8f8; }\n",
              "body .c { color: #408080; font-style: italic } /* Comment */\n",
              "body .err { border: 1px solid #FF0000 } /* Error */\n",
              "body .k { color: #008000; font-weight: bold } /* Keyword */\n",
              "body .o { color: #666666 } /* Operator */\n",
              "body .ch { color: #408080; font-style: italic } /* Comment.Hashbang */\n",
              "body .cm { color: #408080; font-style: italic } /* Comment.Multiline */\n",
              "body .cp { color: #BC7A00 } /* Comment.Preproc */\n",
              "body .cpf { color: #408080; font-style: italic } /* Comment.PreprocFile */\n",
              "body .c1 { color: #408080; font-style: italic } /* Comment.Single */\n",
              "body .cs { color: #408080; font-style: italic } /* Comment.Special */\n",
              "body .gd { color: #A00000 } /* Generic.Deleted */\n",
              "body .ge { font-style: italic } /* Generic.Emph */\n",
              "body .gr { color: #FF0000 } /* Generic.Error */\n",
              "body .gh { color: #000080; font-weight: bold } /* Generic.Heading */\n",
              "body .gi { color: #00A000 } /* Generic.Inserted */\n",
              "body .go { color: #888888 } /* Generic.Output */\n",
              "body .gp { color: #000080; font-weight: bold } /* Generic.Prompt */\n",
              "body .gs { font-weight: bold } /* Generic.Strong */\n",
              "body .gu { color: #800080; font-weight: bold } /* Generic.Subheading */\n",
              "body .gt { color: #0044DD } /* Generic.Traceback */\n",
              "body .kc { color: #008000; font-weight: bold } /* Keyword.Constant */\n",
              "body .kd { color: #008000; font-weight: bold } /* Keyword.Declaration */\n",
              "body .kn { color: #008000; font-weight: bold } /* Keyword.Namespace */\n",
              "body .kp { color: #008000 } /* Keyword.Pseudo */\n",
              "body .kr { color: #008000; font-weight: bold } /* Keyword.Reserved */\n",
              "body .kt { color: #B00040 } /* Keyword.Type */\n",
              "body .m { color: #666666 } /* Literal.Number */\n",
              "body .s { color: #BA2121 } /* Literal.String */\n",
              "body .na { color: #7D9029 } /* Name.Attribute */\n",
              "body .nb { color: #008000 } /* Name.Builtin */\n",
              "body .nc { color: #0000FF; font-weight: bold } /* Name.Class */\n",
              "body .no { color: #880000 } /* Name.Constant */\n",
              "body .nd { color: #AA22FF } /* Name.Decorator */\n",
              "body .ni { color: #999999; font-weight: bold } /* Name.Entity */\n",
              "body .ne { color: #D2413A; font-weight: bold } /* Name.Exception */\n",
              "body .nf { color: #0000FF } /* Name.Function */\n",
              "body .nl { color: #A0A000 } /* Name.Label */\n",
              "body .nn { color: #0000FF; font-weight: bold } /* Name.Namespace */\n",
              "body .nt { color: #008000; font-weight: bold } /* Name.Tag */\n",
              "body .nv { color: #19177C } /* Name.Variable */\n",
              "body .ow { color: #AA22FF; font-weight: bold } /* Operator.Word */\n",
              "body .w { color: #bbbbbb } /* Text.Whitespace */\n",
              "body .mb { color: #666666 } /* Literal.Number.Bin */\n",
              "body .mf { color: #666666 } /* Literal.Number.Float */\n",
              "body .mh { color: #666666 } /* Literal.Number.Hex */\n",
              "body .mi { color: #666666 } /* Literal.Number.Integer */\n",
              "body .mo { color: #666666 } /* Literal.Number.Oct */\n",
              "body .sa { color: #BA2121 } /* Literal.String.Affix */\n",
              "body .sb { color: #BA2121 } /* Literal.String.Backtick */\n",
              "body .sc { color: #BA2121 } /* Literal.String.Char */\n",
              "body .dl { color: #BA2121 } /* Literal.String.Delimiter */\n",
              "body .sd { color: #BA2121; font-style: italic } /* Literal.String.Doc */\n",
              "body .s2 { color: #BA2121 } /* Literal.String.Double */\n",
              "body .se { color: #BB6622; font-weight: bold } /* Literal.String.Escape */\n",
              "body .sh { color: #BA2121 } /* Literal.String.Heredoc */\n",
              "body .si { color: #BB6688; font-weight: bold } /* Literal.String.Interpol */\n",
              "body .sx { color: #008000 } /* Literal.String.Other */\n",
              "body .sr { color: #BB6688 } /* Literal.String.Regex */\n",
              "body .s1 { color: #BA2121 } /* Literal.String.Single */\n",
              "body .ss { color: #19177C } /* Literal.String.Symbol */\n",
              "body .bp { color: #008000 } /* Name.Builtin.Pseudo */\n",
              "body .fm { color: #0000FF } /* Name.Function.Magic */\n",
              "body .vc { color: #19177C } /* Name.Variable.Class */\n",
              "body .vg { color: #19177C } /* Name.Variable.Global */\n",
              "body .vi { color: #19177C } /* Name.Variable.Instance */\n",
              "body .vm { color: #19177C } /* Name.Variable.Magic */\n",
              "body .il { color: #666666 } /* Literal.Number.Integer.Long */\n",
              "\n",
              "  </style>\n",
              "</head>\n",
              "<body>\n",
              "<h2></h2>\n",
              "\n",
              "<div class=\"highlight\"><pre><span></span>    <span class=\"k\">def</span> <span class=\"nf\">to_grid</span><span class=\"p\">(</span><span class=\"bp\">self</span><span class=\"p\">,</span> <span class=\"n\">mapping</span><span class=\"p\">):</span>\n",
              "        <span class=\"sd\">&quot;&quot;&quot;Convert a mapping from (x, y) to v into a [[..., v, ...]] grid.&quot;&quot;&quot;</span>\n",
              "        <span class=\"k\">return</span> <span class=\"nb\">list</span><span class=\"p\">(</span><span class=\"nb\">reversed</span><span class=\"p\">([[</span><span class=\"n\">mapping</span><span class=\"o\">.</span><span class=\"n\">get</span><span class=\"p\">((</span><span class=\"n\">x</span><span class=\"p\">,</span> <span class=\"n\">y</span><span class=\"p\">),</span> <span class=\"bp\">None</span><span class=\"p\">)</span>\n",
              "                               <span class=\"k\">for</span> <span class=\"n\">x</span> <span class=\"ow\">in</span> <span class=\"nb\">range</span><span class=\"p\">(</span><span class=\"bp\">self</span><span class=\"o\">.</span><span class=\"n\">cols</span><span class=\"p\">)]</span>\n",
              "                              <span class=\"k\">for</span> <span class=\"n\">y</span> <span class=\"ow\">in</span> <span class=\"nb\">range</span><span class=\"p\">(</span><span class=\"bp\">self</span><span class=\"o\">.</span><span class=\"n\">rows</span><span class=\"p\">)]))</span>\n",
              "</pre></div>\n",
              "</body>\n",
              "</html>\n"
            ],
            "text/plain": [
              "<IPython.core.display.HTML object>"
            ]
          },
          "metadata": {},
          "output_type": "display_data"
        }
      ],
      "source": [
        "psource(GridMDP.to_grid)"
      ]
    },
    {
      "cell_type": "markdown",
      "metadata": {
        "id": "j9MeFKo2ZUpu"
      },
      "source": [
        "Now that we have all the tools required and a good understanding of the agent and the environment, we consider some cases and see how the agent should behave for each case."
      ]
    },
    {
      "cell_type": "markdown",
      "metadata": {
        "id": "vwNNokJsZUpu"
      },
      "source": [
        "### Case 1\n",
        "---\n",
        "R(s) = -0.04 in all states except terminal states"
      ]
    },
    {
      "cell_type": "code",
      "execution_count": null,
      "metadata": {
        "collapsed": true,
        "id": "F-WaUuddZUpu"
      },
      "outputs": [],
      "source": [
        "# Note that this environment is also initialized in mdp.py by default\n",
        "sequential_decision_environment = GridMDP([[-0.04, -0.04, -0.04, +1],\n",
        "                                           [-0.04, None, -0.04, -1],\n",
        "                                           [-0.04, -0.04, -0.04, -0.04]],\n",
        "                                          terminals=[(3, 2), (3, 1)])"
      ]
    },
    {
      "cell_type": "markdown",
      "metadata": {
        "id": "IebKY9ZnZUpu"
      },
      "source": [
        "We will use the `best_policy` function to find the best policy for this environment.\n",
        "But, as you can see, `best_policy` requires a utility function as well.\n",
        "We already know that the utility function can be found by `value_iteration`.\n",
        "Hence, our best policy is:"
      ]
    },
    {
      "cell_type": "code",
      "execution_count": null,
      "metadata": {
        "collapsed": true,
        "id": "4vuvyqaYZUpv"
      },
      "outputs": [],
      "source": [
        "pi = best_policy(sequential_decision_environment, value_iteration(sequential_decision_environment, .001))"
      ]
    },
    {
      "cell_type": "markdown",
      "metadata": {
        "id": "1BpuMAQbZUpv"
      },
      "source": [
        "We can now use the `to_arrows` method to see how our agent should pick its actions in the environment."
      ]
    },
    {
      "cell_type": "code",
      "execution_count": null,
      "metadata": {
        "id": "DAfFAMHRZUpv",
        "outputId": "546eb7b2-5d79-4129-b7a5-a654c0cb3322"
      },
      "outputs": [
        {
          "name": "stdout",
          "output_type": "stream",
          "text": [
            ">   >      >   .\n",
            "^   None   ^   .\n",
            "^   >      ^   <\n"
          ]
        }
      ],
      "source": [
        "from utils import print_table\n",
        "print_table(sequential_decision_environment.to_arrows(pi))"
      ]
    },
    {
      "cell_type": "markdown",
      "metadata": {
        "id": "cw68R-aBZUpw"
      },
      "source": [
        "This is exactly the output we expected\n",
        "<br>\n",
        "![title](images/-0.04.jpg)\n",
        "<br>\n",
        "Notice that, because the cost of taking a step is fairly small compared with the penalty for ending up in `(4, 2)` by accident, the optimal policy is conservative.\n",
        "In state `(3, 1)` it recommends taking the long way round, rather than taking the shorter way and risking getting a large negative reward of -1 in `(4, 2)`."
      ]
    },
    {
      "cell_type": "markdown",
      "metadata": {
        "id": "hokZog_9ZUpw"
      },
      "source": [
        "### Case 2\n",
        "---\n",
        "R(s) = -0.4 in all states except in terminal states"
      ]
    },
    {
      "cell_type": "code",
      "execution_count": null,
      "metadata": {
        "collapsed": true,
        "id": "CCeWqnyRZUpw"
      },
      "outputs": [],
      "source": [
        "sequential_decision_environment = GridMDP([[-0.4, -0.4, -0.4, +1],\n",
        "                                           [-0.4, None, -0.4, -1],\n",
        "                                           [-0.4, -0.4, -0.4, -0.4]],\n",
        "                                          terminals=[(3, 2), (3, 1)])"
      ]
    },
    {
      "cell_type": "code",
      "execution_count": null,
      "metadata": {
        "id": "zf-EaobrZUpx",
        "outputId": "1efe1ac2-0b9f-465e-e937-de696d353776"
      },
      "outputs": [
        {
          "name": "stdout",
          "output_type": "stream",
          "text": [
            ">   >      >   .\n",
            "^   None   ^   .\n",
            "^   >      ^   <\n"
          ]
        }
      ],
      "source": [
        "pi = best_policy(sequential_decision_environment, value_iteration(sequential_decision_environment, .001))\n",
        "from utils import print_table\n",
        "print_table(sequential_decision_environment.to_arrows(pi))"
      ]
    },
    {
      "cell_type": "markdown",
      "metadata": {
        "id": "BR9mYYniZUpx"
      },
      "source": [
        "This is exactly the output we expected\n",
        "![title](images/-0.4.jpg)"
      ]
    },
    {
      "cell_type": "markdown",
      "metadata": {
        "id": "WOK5HJP3ZUpy"
      },
      "source": [
        "As the reward for each state is now more negative, life is certainly more unpleasant.\n",
        "The agent takes the shortest route to the +1 state and is willing to risk falling into the -1 state by accident."
      ]
    },
    {
      "cell_type": "markdown",
      "metadata": {
        "id": "RdNxrJAIZUpy"
      },
      "source": [
        "### Case 3\n",
        "---\n",
        "R(s) = -4 in all states except terminal states"
      ]
    },
    {
      "cell_type": "code",
      "execution_count": null,
      "metadata": {
        "collapsed": true,
        "id": "_BMccUHuZUpy"
      },
      "outputs": [],
      "source": [
        "sequential_decision_environment = GridMDP([[-4, -4, -4, +1],\n",
        "                                           [-4, None, -4, -1],\n",
        "                                           [-4, -4, -4, -4]],\n",
        "                                          terminals=[(3, 2), (3, 1)])"
      ]
    },
    {
      "cell_type": "code",
      "execution_count": null,
      "metadata": {
        "id": "DmE0IBMfZUpy",
        "outputId": "81b8177d-376a-4e96-ef49-1cabd18de391"
      },
      "outputs": [
        {
          "name": "stdout",
          "output_type": "stream",
          "text": [
            ">   >      >   .\n",
            "^   None   >   .\n",
            ">   >      >   ^\n"
          ]
        }
      ],
      "source": [
        "pi = best_policy(sequential_decision_environment, value_iteration(sequential_decision_environment, .001))\n",
        "from utils import print_table\n",
        "print_table(sequential_decision_environment.to_arrows(pi))"
      ]
    },
    {
      "cell_type": "markdown",
      "metadata": {
        "id": "lVyX42X3ZUpz"
      },
      "source": [
        "This is exactly the output we expected\n",
        "![title](images/-4.jpg)"
      ]
    },
    {
      "cell_type": "markdown",
      "metadata": {
        "id": "EkxHTlUHZUpz"
      },
      "source": [
        "The living reward for each state is now lower than the least rewarding terminal. Life is so _painful_ that the agent heads for the nearest exit as even the worst exit is less painful than any living state."
      ]
    },
    {
      "cell_type": "markdown",
      "metadata": {
        "id": "jOyOYNUIZUpz"
      },
      "source": [
        "### Case 4\n",
        "---\n",
        "R(s) = 4 in all states except terminal states"
      ]
    },
    {
      "cell_type": "code",
      "execution_count": null,
      "metadata": {
        "collapsed": true,
        "id": "jX3UZPDPZUp0"
      },
      "outputs": [],
      "source": [
        "sequential_decision_environment = GridMDP([[4, 4, 4, +1],\n",
        "                                           [4, None, 4, -1],\n",
        "                                           [4, 4, 4, 4]],\n",
        "                                          terminals=[(3, 2), (3, 1)])"
      ]
    },
    {
      "cell_type": "code",
      "execution_count": null,
      "metadata": {
        "id": "bXc3khzdZUp0",
        "outputId": "0bc1d97b-8bf1-46a5-c30a-d8c6b98604e4"
      },
      "outputs": [
        {
          "name": "stdout",
          "output_type": "stream",
          "text": [
            ">   >      <   .\n",
            ">   None   <   .\n",
            ">   >      >   v\n"
          ]
        }
      ],
      "source": [
        "pi = best_policy(sequential_decision_environment, value_iteration(sequential_decision_environment, .001))\n",
        "from utils import print_table\n",
        "print_table(sequential_decision_environment.to_arrows(pi))"
      ]
    },
    {
      "cell_type": "markdown",
      "metadata": {
        "id": "Hd_TtFpoZUp1"
      },
      "source": [
        "In this case, the output we expect is\n",
        "![title](images/4.jpg)\n",
        "<br>\n",
        "As life is positively enjoyable and the agent avoids _both_ exits.\n",
        "Even though the output we get is not exactly what we want, it is definitely not wrong.\n",
        "The scenario here requires the agent to anything but reach a terminal state, as this is the only way the agent can maximize its reward (total reward tends to infinity), and the program does just that.\n",
        "<br>\n",
        "Currently, the GridMDP class doesn't support an explicit marker for a \"do whatever you like\" action or a \"don't care\" condition.\n",
        "You can however, extend the class to do so.\n",
        "<br>\n",
        "For in-depth knowledge about sequential decision problems, refer **Section 17.1** in the AIMA book."
      ]
    },
    {
      "cell_type": "markdown",
      "metadata": {
        "id": "8nblZ12-ZUp4"
      },
      "source": [
        "Now that we know the basics, let's have a look at the `POMDP` class."
      ]
    },
    {
      "cell_type": "code",
      "execution_count": null,
      "metadata": {
        "id": "jUW08Wv0ZUp4",
        "outputId": "0d277cd2-ec68-4ac6-8f56-977ae46d4905"
      },
      "outputs": [
        {
          "data": {
            "text/html": [
              "<!DOCTYPE html PUBLIC \"-//W3C//DTD HTML 4.01//EN\"\n",
              "   \"http://www.w3.org/TR/html4/strict.dtd\">\n",
              "\n",
              "<html>\n",
              "<head>\n",
              "  <title></title>\n",
              "  <meta http-equiv=\"content-type\" content=\"text/html; charset=None\">\n",
              "  <style type=\"text/css\">\n",
              "td.linenos { background-color: #f0f0f0; padding-right: 10px; }\n",
              "span.lineno { background-color: #f0f0f0; padding: 0 5px 0 5px; }\n",
              "pre { line-height: 125%; }\n",
              "body .hll { background-color: #ffffcc }\n",
              "body  { background: #f8f8f8; }\n",
              "body .c { color: #408080; font-style: italic } /* Comment */\n",
              "body .err { border: 1px solid #FF0000 } /* Error */\n",
              "body .k { color: #008000; font-weight: bold } /* Keyword */\n",
              "body .o { color: #666666 } /* Operator */\n",
              "body .ch { color: #408080; font-style: italic } /* Comment.Hashbang */\n",
              "body .cm { color: #408080; font-style: italic } /* Comment.Multiline */\n",
              "body .cp { color: #BC7A00 } /* Comment.Preproc */\n",
              "body .cpf { color: #408080; font-style: italic } /* Comment.PreprocFile */\n",
              "body .c1 { color: #408080; font-style: italic } /* Comment.Single */\n",
              "body .cs { color: #408080; font-style: italic } /* Comment.Special */\n",
              "body .gd { color: #A00000 } /* Generic.Deleted */\n",
              "body .ge { font-style: italic } /* Generic.Emph */\n",
              "body .gr { color: #FF0000 } /* Generic.Error */\n",
              "body .gh { color: #000080; font-weight: bold } /* Generic.Heading */\n",
              "body .gi { color: #00A000 } /* Generic.Inserted */\n",
              "body .go { color: #888888 } /* Generic.Output */\n",
              "body .gp { color: #000080; font-weight: bold } /* Generic.Prompt */\n",
              "body .gs { font-weight: bold } /* Generic.Strong */\n",
              "body .gu { color: #800080; font-weight: bold } /* Generic.Subheading */\n",
              "body .gt { color: #0044DD } /* Generic.Traceback */\n",
              "body .kc { color: #008000; font-weight: bold } /* Keyword.Constant */\n",
              "body .kd { color: #008000; font-weight: bold } /* Keyword.Declaration */\n",
              "body .kn { color: #008000; font-weight: bold } /* Keyword.Namespace */\n",
              "body .kp { color: #008000 } /* Keyword.Pseudo */\n",
              "body .kr { color: #008000; font-weight: bold } /* Keyword.Reserved */\n",
              "body .kt { color: #B00040 } /* Keyword.Type */\n",
              "body .m { color: #666666 } /* Literal.Number */\n",
              "body .s { color: #BA2121 } /* Literal.String */\n",
              "body .na { color: #7D9029 } /* Name.Attribute */\n",
              "body .nb { color: #008000 } /* Name.Builtin */\n",
              "body .nc { color: #0000FF; font-weight: bold } /* Name.Class */\n",
              "body .no { color: #880000 } /* Name.Constant */\n",
              "body .nd { color: #AA22FF } /* Name.Decorator */\n",
              "body .ni { color: #999999; font-weight: bold } /* Name.Entity */\n",
              "body .ne { color: #D2413A; font-weight: bold } /* Name.Exception */\n",
              "body .nf { color: #0000FF } /* Name.Function */\n",
              "body .nl { color: #A0A000 } /* Name.Label */\n",
              "body .nn { color: #0000FF; font-weight: bold } /* Name.Namespace */\n",
              "body .nt { color: #008000; font-weight: bold } /* Name.Tag */\n",
              "body .nv { color: #19177C } /* Name.Variable */\n",
              "body .ow { color: #AA22FF; font-weight: bold } /* Operator.Word */\n",
              "body .w { color: #bbbbbb } /* Text.Whitespace */\n",
              "body .mb { color: #666666 } /* Literal.Number.Bin */\n",
              "body .mf { color: #666666 } /* Literal.Number.Float */\n",
              "body .mh { color: #666666 } /* Literal.Number.Hex */\n",
              "body .mi { color: #666666 } /* Literal.Number.Integer */\n",
              "body .mo { color: #666666 } /* Literal.Number.Oct */\n",
              "body .sa { color: #BA2121 } /* Literal.String.Affix */\n",
              "body .sb { color: #BA2121 } /* Literal.String.Backtick */\n",
              "body .sc { color: #BA2121 } /* Literal.String.Char */\n",
              "body .dl { color: #BA2121 } /* Literal.String.Delimiter */\n",
              "body .sd { color: #BA2121; font-style: italic } /* Literal.String.Doc */\n",
              "body .s2 { color: #BA2121 } /* Literal.String.Double */\n",
              "body .se { color: #BB6622; font-weight: bold } /* Literal.String.Escape */\n",
              "body .sh { color: #BA2121 } /* Literal.String.Heredoc */\n",
              "body .si { color: #BB6688; font-weight: bold } /* Literal.String.Interpol */\n",
              "body .sx { color: #008000 } /* Literal.String.Other */\n",
              "body .sr { color: #BB6688 } /* Literal.String.Regex */\n",
              "body .s1 { color: #BA2121 } /* Literal.String.Single */\n",
              "body .ss { color: #19177C } /* Literal.String.Symbol */\n",
              "body .bp { color: #008000 } /* Name.Builtin.Pseudo */\n",
              "body .fm { color: #0000FF } /* Name.Function.Magic */\n",
              "body .vc { color: #19177C } /* Name.Variable.Class */\n",
              "body .vg { color: #19177C } /* Name.Variable.Global */\n",
              "body .vi { color: #19177C } /* Name.Variable.Instance */\n",
              "body .vm { color: #19177C } /* Name.Variable.Magic */\n",
              "body .il { color: #666666 } /* Literal.Number.Integer.Long */\n",
              "\n",
              "  </style>\n",
              "</head>\n",
              "<body>\n",
              "<h2></h2>\n",
              "\n",
              "<div class=\"highlight\"><pre><span></span><span class=\"k\">class</span> <span class=\"nc\">POMDP</span><span class=\"p\">(</span><span class=\"n\">MDP</span><span class=\"p\">):</span>\n",
              "\n",
              "    <span class=\"sd\">&quot;&quot;&quot;A Partially Observable Markov Decision Process, defined by</span>\n",
              "<span class=\"sd\">    a transition model P(s&#39;|s,a), actions A(s), a reward function R(s),</span>\n",
              "<span class=\"sd\">    and a sensor model P(e|s). We also keep track of a gamma value,</span>\n",
              "<span class=\"sd\">    for use by algorithms. The transition and the sensor models</span>\n",
              "<span class=\"sd\">    are defined as matrices. We also keep track of the possible states</span>\n",
              "<span class=\"sd\">    and actions for each state. [page 659].&quot;&quot;&quot;</span>\n",
              "\n",
              "    <span class=\"k\">def</span> <span class=\"fm\">__init__</span><span class=\"p\">(</span><span class=\"bp\">self</span><span class=\"p\">,</span> <span class=\"n\">actions</span><span class=\"p\">,</span> <span class=\"n\">transitions</span><span class=\"o\">=</span><span class=\"bp\">None</span><span class=\"p\">,</span> <span class=\"n\">evidences</span><span class=\"o\">=</span><span class=\"bp\">None</span><span class=\"p\">,</span> <span class=\"n\">rewards</span><span class=\"o\">=</span><span class=\"bp\">None</span><span class=\"p\">,</span> <span class=\"n\">states</span><span class=\"o\">=</span><span class=\"bp\">None</span><span class=\"p\">,</span> <span class=\"n\">gamma</span><span class=\"o\">=</span><span class=\"mf\">0.95</span><span class=\"p\">):</span>\n",
              "        <span class=\"sd\">&quot;&quot;&quot;Initialize variables of the pomdp&quot;&quot;&quot;</span>\n",
              "\n",
              "        <span class=\"k\">if</span> <span class=\"ow\">not</span> <span class=\"p\">(</span><span class=\"mi\">0</span> <span class=\"o\">&lt;</span> <span class=\"n\">gamma</span> <span class=\"o\">&lt;=</span> <span class=\"mi\">1</span><span class=\"p\">):</span>\n",
              "            <span class=\"k\">raise</span> <span class=\"ne\">ValueError</span><span class=\"p\">(</span><span class=\"s1\">&#39;A POMDP must have 0 &lt; gamma &lt;= 1&#39;</span><span class=\"p\">)</span>\n",
              "\n",
              "        <span class=\"bp\">self</span><span class=\"o\">.</span><span class=\"n\">states</span> <span class=\"o\">=</span> <span class=\"n\">states</span>\n",
              "        <span class=\"bp\">self</span><span class=\"o\">.</span><span class=\"n\">actions</span> <span class=\"o\">=</span> <span class=\"n\">actions</span>\n",
              "\n",
              "        <span class=\"c1\"># transition model cannot be undefined</span>\n",
              "        <span class=\"bp\">self</span><span class=\"o\">.</span><span class=\"n\">t_prob</span> <span class=\"o\">=</span> <span class=\"n\">transitions</span> <span class=\"ow\">or</span> <span class=\"p\">{}</span>\n",
              "        <span class=\"k\">if</span> <span class=\"ow\">not</span> <span class=\"bp\">self</span><span class=\"o\">.</span><span class=\"n\">t_prob</span><span class=\"p\">:</span>\n",
              "            <span class=\"k\">print</span><span class=\"p\">(</span><span class=\"s1\">&#39;Warning: Transition model is undefined&#39;</span><span class=\"p\">)</span>\n",
              "        \n",
              "        <span class=\"c1\"># sensor model cannot be undefined</span>\n",
              "        <span class=\"bp\">self</span><span class=\"o\">.</span><span class=\"n\">e_prob</span> <span class=\"o\">=</span> <span class=\"n\">evidences</span> <span class=\"ow\">or</span> <span class=\"p\">{}</span>\n",
              "        <span class=\"k\">if</span> <span class=\"ow\">not</span> <span class=\"bp\">self</span><span class=\"o\">.</span><span class=\"n\">e_prob</span><span class=\"p\">:</span>\n",
              "            <span class=\"k\">print</span><span class=\"p\">(</span><span class=\"s1\">&#39;Warning: Sensor model is undefined&#39;</span><span class=\"p\">)</span>\n",
              "        \n",
              "        <span class=\"bp\">self</span><span class=\"o\">.</span><span class=\"n\">gamma</span> <span class=\"o\">=</span> <span class=\"n\">gamma</span>\n",
              "        <span class=\"bp\">self</span><span class=\"o\">.</span><span class=\"n\">rewards</span> <span class=\"o\">=</span> <span class=\"n\">rewards</span>\n",
              "\n",
              "    <span class=\"k\">def</span> <span class=\"nf\">remove_dominated_plans</span><span class=\"p\">(</span><span class=\"bp\">self</span><span class=\"p\">,</span> <span class=\"n\">input_values</span><span class=\"p\">):</span>\n",
              "        <span class=\"sd\">&quot;&quot;&quot;</span>\n",
              "<span class=\"sd\">        Remove dominated plans.</span>\n",
              "<span class=\"sd\">        This method finds all the lines contributing to the</span>\n",
              "<span class=\"sd\">        upper surface and removes those which don&#39;t.</span>\n",
              "<span class=\"sd\">        &quot;&quot;&quot;</span>\n",
              "\n",
              "        <span class=\"n\">values</span> <span class=\"o\">=</span> <span class=\"p\">[</span><span class=\"n\">val</span> <span class=\"k\">for</span> <span class=\"n\">action</span> <span class=\"ow\">in</span> <span class=\"n\">input_values</span> <span class=\"k\">for</span> <span class=\"n\">val</span> <span class=\"ow\">in</span> <span class=\"n\">input_values</span><span class=\"p\">[</span><span class=\"n\">action</span><span class=\"p\">]]</span>\n",
              "        <span class=\"n\">values</span><span class=\"o\">.</span><span class=\"n\">sort</span><span class=\"p\">(</span><span class=\"n\">key</span><span class=\"o\">=</span><span class=\"k\">lambda</span> <span class=\"n\">x</span><span class=\"p\">:</span> <span class=\"n\">x</span><span class=\"p\">[</span><span class=\"mi\">0</span><span class=\"p\">],</span> <span class=\"n\">reverse</span><span class=\"o\">=</span><span class=\"bp\">True</span><span class=\"p\">)</span>\n",
              "\n",
              "        <span class=\"n\">best</span> <span class=\"o\">=</span> <span class=\"p\">[</span><span class=\"n\">values</span><span class=\"p\">[</span><span class=\"mi\">0</span><span class=\"p\">]]</span>\n",
              "        <span class=\"n\">y1_max</span> <span class=\"o\">=</span> <span class=\"nb\">max</span><span class=\"p\">(</span><span class=\"n\">val</span><span class=\"p\">[</span><span class=\"mi\">1</span><span class=\"p\">]</span> <span class=\"k\">for</span> <span class=\"n\">val</span> <span class=\"ow\">in</span> <span class=\"n\">values</span><span class=\"p\">)</span>\n",
              "        <span class=\"n\">tgt</span> <span class=\"o\">=</span> <span class=\"n\">values</span><span class=\"p\">[</span><span class=\"mi\">0</span><span class=\"p\">]</span>\n",
              "        <span class=\"n\">prev_b</span> <span class=\"o\">=</span> <span class=\"mi\">0</span>\n",
              "        <span class=\"n\">prev_ix</span> <span class=\"o\">=</span> <span class=\"mi\">0</span>\n",
              "        <span class=\"k\">while</span> <span class=\"n\">tgt</span><span class=\"p\">[</span><span class=\"mi\">1</span><span class=\"p\">]</span> <span class=\"o\">!=</span> <span class=\"n\">y1_max</span><span class=\"p\">:</span>\n",
              "            <span class=\"n\">min_b</span> <span class=\"o\">=</span> <span class=\"mi\">1</span>\n",
              "            <span class=\"n\">min_ix</span> <span class=\"o\">=</span> <span class=\"mi\">0</span>\n",
              "            <span class=\"k\">for</span> <span class=\"n\">i</span> <span class=\"ow\">in</span> <span class=\"nb\">range</span><span class=\"p\">(</span><span class=\"n\">prev_ix</span> <span class=\"o\">+</span> <span class=\"mi\">1</span><span class=\"p\">,</span> <span class=\"nb\">len</span><span class=\"p\">(</span><span class=\"n\">values</span><span class=\"p\">)):</span>\n",
              "                <span class=\"k\">if</span> <span class=\"n\">values</span><span class=\"p\">[</span><span class=\"n\">i</span><span class=\"p\">][</span><span class=\"mi\">0</span><span class=\"p\">]</span> <span class=\"o\">-</span> <span class=\"n\">tgt</span><span class=\"p\">[</span><span class=\"mi\">0</span><span class=\"p\">]</span> <span class=\"o\">+</span> <span class=\"n\">tgt</span><span class=\"p\">[</span><span class=\"mi\">1</span><span class=\"p\">]</span> <span class=\"o\">-</span> <span class=\"n\">values</span><span class=\"p\">[</span><span class=\"n\">i</span><span class=\"p\">][</span><span class=\"mi\">1</span><span class=\"p\">]</span> <span class=\"o\">!=</span> <span class=\"mi\">0</span><span class=\"p\">:</span>\n",
              "                    <span class=\"n\">trans_b</span> <span class=\"o\">=</span> <span class=\"p\">(</span><span class=\"n\">values</span><span class=\"p\">[</span><span class=\"n\">i</span><span class=\"p\">][</span><span class=\"mi\">0</span><span class=\"p\">]</span> <span class=\"o\">-</span> <span class=\"n\">tgt</span><span class=\"p\">[</span><span class=\"mi\">0</span><span class=\"p\">])</span> <span class=\"o\">/</span> <span class=\"p\">(</span><span class=\"n\">values</span><span class=\"p\">[</span><span class=\"n\">i</span><span class=\"p\">][</span><span class=\"mi\">0</span><span class=\"p\">]</span> <span class=\"o\">-</span> <span class=\"n\">tgt</span><span class=\"p\">[</span><span class=\"mi\">0</span><span class=\"p\">]</span> <span class=\"o\">+</span> <span class=\"n\">tgt</span><span class=\"p\">[</span><span class=\"mi\">1</span><span class=\"p\">]</span> <span class=\"o\">-</span> <span class=\"n\">values</span><span class=\"p\">[</span><span class=\"n\">i</span><span class=\"p\">][</span><span class=\"mi\">1</span><span class=\"p\">])</span>\n",
              "                    <span class=\"k\">if</span> <span class=\"mi\">0</span> <span class=\"o\">&lt;=</span> <span class=\"n\">trans_b</span> <span class=\"o\">&lt;=</span> <span class=\"mi\">1</span> <span class=\"ow\">and</span> <span class=\"n\">trans_b</span> <span class=\"o\">&gt;</span> <span class=\"n\">prev_b</span> <span class=\"ow\">and</span> <span class=\"n\">trans_b</span> <span class=\"o\">&lt;</span> <span class=\"n\">min_b</span><span class=\"p\">:</span>\n",
              "                        <span class=\"n\">min_b</span> <span class=\"o\">=</span> <span class=\"n\">trans_b</span>\n",
              "                        <span class=\"n\">min_ix</span> <span class=\"o\">=</span> <span class=\"n\">i</span>\n",
              "            <span class=\"n\">prev_b</span> <span class=\"o\">=</span> <span class=\"n\">min_b</span>\n",
              "            <span class=\"n\">prev_ix</span> <span class=\"o\">=</span> <span class=\"n\">min_ix</span>\n",
              "            <span class=\"n\">tgt</span> <span class=\"o\">=</span> <span class=\"n\">values</span><span class=\"p\">[</span><span class=\"n\">min_ix</span><span class=\"p\">]</span>\n",
              "            <span class=\"n\">best</span><span class=\"o\">.</span><span class=\"n\">append</span><span class=\"p\">(</span><span class=\"n\">tgt</span><span class=\"p\">)</span>\n",
              "\n",
              "        <span class=\"k\">return</span> <span class=\"bp\">self</span><span class=\"o\">.</span><span class=\"n\">generate_mapping</span><span class=\"p\">(</span><span class=\"n\">best</span><span class=\"p\">,</span> <span class=\"n\">input_values</span><span class=\"p\">)</span>\n",
              "\n",
              "    <span class=\"k\">def</span> <span class=\"nf\">remove_dominated_plans_fast</span><span class=\"p\">(</span><span class=\"bp\">self</span><span class=\"p\">,</span> <span class=\"n\">input_values</span><span class=\"p\">):</span>\n",
              "        <span class=\"sd\">&quot;&quot;&quot;</span>\n",
              "<span class=\"sd\">        Remove dominated plans using approximations.</span>\n",
              "<span class=\"sd\">        Resamples the upper boundary at intervals of 100 and</span>\n",
              "<span class=\"sd\">        finds the maximum values at these points.</span>\n",
              "<span class=\"sd\">        &quot;&quot;&quot;</span>\n",
              "\n",
              "        <span class=\"n\">values</span> <span class=\"o\">=</span> <span class=\"p\">[</span><span class=\"n\">val</span> <span class=\"k\">for</span> <span class=\"n\">action</span> <span class=\"ow\">in</span> <span class=\"n\">input_values</span> <span class=\"k\">for</span> <span class=\"n\">val</span> <span class=\"ow\">in</span> <span class=\"n\">input_values</span><span class=\"p\">[</span><span class=\"n\">action</span><span class=\"p\">]]</span>\n",
              "        <span class=\"n\">values</span><span class=\"o\">.</span><span class=\"n\">sort</span><span class=\"p\">(</span><span class=\"n\">key</span><span class=\"o\">=</span><span class=\"k\">lambda</span> <span class=\"n\">x</span><span class=\"p\">:</span> <span class=\"n\">x</span><span class=\"p\">[</span><span class=\"mi\">0</span><span class=\"p\">],</span> <span class=\"n\">reverse</span><span class=\"o\">=</span><span class=\"bp\">True</span><span class=\"p\">)</span>\n",
              "\n",
              "        <span class=\"n\">best</span> <span class=\"o\">=</span> <span class=\"p\">[]</span>\n",
              "        <span class=\"n\">sr</span> <span class=\"o\">=</span> <span class=\"mi\">100</span>\n",
              "        <span class=\"k\">for</span> <span class=\"n\">i</span> <span class=\"ow\">in</span> <span class=\"nb\">range</span><span class=\"p\">(</span><span class=\"n\">sr</span> <span class=\"o\">+</span> <span class=\"mi\">1</span><span class=\"p\">):</span>\n",
              "            <span class=\"n\">x</span> <span class=\"o\">=</span> <span class=\"n\">i</span> <span class=\"o\">/</span> <span class=\"nb\">float</span><span class=\"p\">(</span><span class=\"n\">sr</span><span class=\"p\">)</span>\n",
              "            <span class=\"n\">maximum</span> <span class=\"o\">=</span> <span class=\"p\">(</span><span class=\"n\">values</span><span class=\"p\">[</span><span class=\"mi\">0</span><span class=\"p\">][</span><span class=\"mi\">1</span><span class=\"p\">]</span> <span class=\"o\">-</span> <span class=\"n\">values</span><span class=\"p\">[</span><span class=\"mi\">0</span><span class=\"p\">][</span><span class=\"mi\">0</span><span class=\"p\">])</span> <span class=\"o\">*</span> <span class=\"n\">x</span> <span class=\"o\">+</span> <span class=\"n\">values</span><span class=\"p\">[</span><span class=\"mi\">0</span><span class=\"p\">][</span><span class=\"mi\">0</span><span class=\"p\">]</span>\n",
              "            <span class=\"n\">tgt</span> <span class=\"o\">=</span> <span class=\"n\">values</span><span class=\"p\">[</span><span class=\"mi\">0</span><span class=\"p\">]</span>\n",
              "            <span class=\"k\">for</span> <span class=\"n\">value</span> <span class=\"ow\">in</span> <span class=\"n\">values</span><span class=\"p\">:</span>\n",
              "                <span class=\"n\">val</span> <span class=\"o\">=</span> <span class=\"p\">(</span><span class=\"n\">value</span><span class=\"p\">[</span><span class=\"mi\">1</span><span class=\"p\">]</span> <span class=\"o\">-</span> <span class=\"n\">value</span><span class=\"p\">[</span><span class=\"mi\">0</span><span class=\"p\">])</span> <span class=\"o\">*</span> <span class=\"n\">x</span> <span class=\"o\">+</span> <span class=\"n\">value</span><span class=\"p\">[</span><span class=\"mi\">0</span><span class=\"p\">]</span>\n",
              "                <span class=\"k\">if</span> <span class=\"n\">val</span> <span class=\"o\">&gt;</span> <span class=\"n\">maximum</span><span class=\"p\">:</span>\n",
              "                    <span class=\"n\">maximum</span> <span class=\"o\">=</span> <span class=\"n\">val</span>\n",
              "                    <span class=\"n\">tgt</span> <span class=\"o\">=</span> <span class=\"n\">value</span>\n",
              "\n",
              "            <span class=\"k\">if</span> <span class=\"nb\">all</span><span class=\"p\">(</span><span class=\"nb\">any</span><span class=\"p\">(</span><span class=\"n\">tgt</span> <span class=\"o\">!=</span> <span class=\"n\">v</span><span class=\"p\">)</span> <span class=\"k\">for</span> <span class=\"n\">v</span> <span class=\"ow\">in</span> <span class=\"n\">best</span><span class=\"p\">):</span>\n",
              "                <span class=\"n\">best</span><span class=\"o\">.</span><span class=\"n\">append</span><span class=\"p\">(</span><span class=\"n\">tgt</span><span class=\"p\">)</span>\n",
              "\n",
              "        <span class=\"k\">return</span> <span class=\"bp\">self</span><span class=\"o\">.</span><span class=\"n\">generate_mapping</span><span class=\"p\">(</span><span class=\"n\">best</span><span class=\"p\">,</span> <span class=\"n\">input_values</span><span class=\"p\">)</span>\n",
              "\n",
              "    <span class=\"k\">def</span> <span class=\"nf\">generate_mapping</span><span class=\"p\">(</span><span class=\"bp\">self</span><span class=\"p\">,</span> <span class=\"n\">best</span><span class=\"p\">,</span> <span class=\"n\">input_values</span><span class=\"p\">):</span>\n",
              "        <span class=\"sd\">&quot;&quot;&quot;Generate mappings after removing dominated plans&quot;&quot;&quot;</span>\n",
              "\n",
              "        <span class=\"n\">mapping</span> <span class=\"o\">=</span> <span class=\"n\">defaultdict</span><span class=\"p\">(</span><span class=\"nb\">list</span><span class=\"p\">)</span>\n",
              "        <span class=\"k\">for</span> <span class=\"n\">value</span> <span class=\"ow\">in</span> <span class=\"n\">best</span><span class=\"p\">:</span>\n",
              "            <span class=\"k\">for</span> <span class=\"n\">action</span> <span class=\"ow\">in</span> <span class=\"n\">input_values</span><span class=\"p\">:</span>\n",
              "                <span class=\"k\">if</span> <span class=\"nb\">any</span><span class=\"p\">(</span><span class=\"nb\">all</span><span class=\"p\">(</span><span class=\"n\">value</span> <span class=\"o\">==</span> <span class=\"n\">v</span><span class=\"p\">)</span> <span class=\"k\">for</span> <span class=\"n\">v</span> <span class=\"ow\">in</span> <span class=\"n\">input_values</span><span class=\"p\">[</span><span class=\"n\">action</span><span class=\"p\">]):</span>\n",
              "                    <span class=\"n\">mapping</span><span class=\"p\">[</span><span class=\"n\">action</span><span class=\"p\">]</span><span class=\"o\">.</span><span class=\"n\">append</span><span class=\"p\">(</span><span class=\"n\">value</span><span class=\"p\">)</span>\n",
              "\n",
              "        <span class=\"k\">return</span> <span class=\"n\">mapping</span>\n",
              "\n",
              "    <span class=\"k\">def</span> <span class=\"nf\">max_difference</span><span class=\"p\">(</span><span class=\"bp\">self</span><span class=\"p\">,</span> <span class=\"n\">U1</span><span class=\"p\">,</span> <span class=\"n\">U2</span><span class=\"p\">):</span>\n",
              "        <span class=\"sd\">&quot;&quot;&quot;Find maximum difference between two utility mappings&quot;&quot;&quot;</span>\n",
              "\n",
              "        <span class=\"k\">for</span> <span class=\"n\">k</span><span class=\"p\">,</span> <span class=\"n\">v</span> <span class=\"ow\">in</span> <span class=\"n\">U1</span><span class=\"o\">.</span><span class=\"n\">items</span><span class=\"p\">():</span>\n",
              "            <span class=\"n\">sum1</span> <span class=\"o\">=</span> <span class=\"mi\">0</span>\n",
              "            <span class=\"k\">for</span> <span class=\"n\">element</span> <span class=\"ow\">in</span> <span class=\"n\">U1</span><span class=\"p\">[</span><span class=\"n\">k</span><span class=\"p\">]:</span>\n",
              "                <span class=\"n\">sum1</span> <span class=\"o\">+=</span> <span class=\"nb\">sum</span><span class=\"p\">(</span><span class=\"n\">element</span><span class=\"p\">)</span>\n",
              "            <span class=\"n\">sum2</span> <span class=\"o\">=</span> <span class=\"mi\">0</span>\n",
              "            <span class=\"k\">for</span> <span class=\"n\">element</span> <span class=\"ow\">in</span> <span class=\"n\">U2</span><span class=\"p\">[</span><span class=\"n\">k</span><span class=\"p\">]:</span>\n",
              "                <span class=\"n\">sum2</span> <span class=\"o\">+=</span> <span class=\"nb\">sum</span><span class=\"p\">(</span><span class=\"n\">element</span><span class=\"p\">)</span>\n",
              "        <span class=\"k\">return</span> <span class=\"nb\">abs</span><span class=\"p\">(</span><span class=\"n\">sum1</span> <span class=\"o\">-</span> <span class=\"n\">sum2</span><span class=\"p\">)</span>\n",
              "</pre></div>\n",
              "</body>\n",
              "</html>\n"
            ],
            "text/plain": [
              "<IPython.core.display.HTML object>"
            ]
          },
          "metadata": {},
          "output_type": "display_data"
        }
      ],
      "source": [
        "psource(POMDP)"
      ]
    },
    {
      "cell_type": "markdown",
      "metadata": {
        "id": "wy2Ck5WQZUp5"
      },
      "source": [
        "The `POMDP` class includes all variables of the `MDP` class and additionally also stores the sensor model in `e_prob`.\n",
        "<br>\n",
        "<br>\n",
        "`remove_dominated_plans`, `remove_dominated_plans_fast`, `generate_mapping` and `max_difference` are helper methods for `pomdp_value_iteration` which will be explained shortly."
      ]
    },
    {
      "cell_type": "markdown",
      "metadata": {
        "id": "vooy_ZM3ZUp5"
      },
      "source": [
        "To understand how we can model a partially observable MDP, let's take a simple example.\n",
        "Let's consider a simple two state world.\n",
        "The states are labelled 0 and 1, with the reward at state 0 being 0 and at state 1 being 1.\n",
        "<br>\n",
        "There are two actions:\n",
        "<br>\n",
        "`Stay`: stays put with probability 0.9 and\n",
        "`Go`: switches to the other state with probability 0.9.\n",
        "<br>\n",
        "For now, let's assume the discount factor `gamma` to be 1.\n",
        "<br>\n",
        "The sensor reports the correct state with probability 0.6.\n",
        "<br>\n",
        "This is a simple problem with a trivial solution.\n",
        "Obviously the agent should `Stay` when it thinks it is in state 1 and `Go` when it thinks it is in state 0.\n",
        "<br>\n",
        "The belief space can be viewed as one-dimensional because the two probabilities must sum to 1."
      ]
    },
    {
      "cell_type": "markdown",
      "metadata": {
        "id": "dTg4HRgmZUp5"
      },
      "source": [
        "Let's model this POMDP using the `POMDP` class."
      ]
    },
    {
      "cell_type": "code",
      "execution_count": null,
      "metadata": {
        "id": "1urnbPENZUp6"
      },
      "outputs": [],
      "source": [
        "# transition probability P(s'|s,a)\n",
        "t_prob = [[[0.9, 0.1], [0.1, 0.9]], [[0.1, 0.9], [0.9, 0.1]]]\n",
        "# evidence function P(e|s)\n",
        "e_prob = [[[0.6, 0.4], [0.4, 0.6]], [[0.6, 0.4], [0.4, 0.6]]]\n",
        "# reward function\n",
        "rewards = [[0.0, 0.0], [1.0, 1.0]]\n",
        "# discount factor\n",
        "gamma = 0.95\n",
        "# actions\n",
        "actions = ('0', '1')\n",
        "# states\n",
        "states = ('0', '1')"
      ]
    },
    {
      "cell_type": "code",
      "execution_count": null,
      "metadata": {
        "id": "w73nHx_dZUp7"
      },
      "outputs": [],
      "source": [
        "pomdp = POMDP(actions, t_prob, e_prob, rewards, states, gamma)"
      ]
    },
    {
      "cell_type": "markdown",
      "metadata": {
        "id": "v_bgfTjeZUp7"
      },
      "source": [
        "We have defined our `POMDP` object."
      ]
    },
    {
      "cell_type": "markdown",
      "metadata": {
        "id": "TR5OvbM0ZUp8"
      },
      "source": [
        "## POMDP VALUE ITERATION\n",
        "Defining a POMDP is useless unless we can find a way to solve it. As POMDPs can have infinitely many belief states, we cannot calculate one utility value for each state as we did in `value_iteration` for MDPs.\n",
        "<br>\n",
        "Instead of thinking about policies, we should think about conditional plans and how the expected utility of executing a fixed conditional plan varies with the initial belief state.\n",
        "<br>\n",
        "If we bound the depth of the conditional plans, then there are only finitely many such plans and the continuous space of belief states will generally be divided inte _regions_, each corresponding to a particular conditional plan that is optimal in that region. The utility function, being the maximum of a collection of hyperplanes, will be piecewise linear and convex.\n",
        "<br>\n",
        "For the one-step plans `Stay` and `Go`, the utility values are as follows\n",
        "<br>\n",
        "<br>\n",
        "$$\\alpha_{|Stay|}(0) = R(0) + \\gamma(0.9R(0) + 0.1R(1)) = 0.1$$\n",
        "$$\\alpha_{|Stay|}(1) = R(1) + \\gamma(0.9R(1) + 0.1R(0)) = 1.9$$\n",
        "$$\\alpha_{|Go|}(0) = R(0) + \\gamma(0.9R(1) + 0.1R(0)) = 0.9$$\n",
        "$$\\alpha_{|Go|}(1) = R(1) + \\gamma(0.9R(0) + 0.1R(1)) = 1.1$$"
      ]
    },
    {
      "cell_type": "markdown",
      "metadata": {
        "id": "RLLjc_lnZUp8"
      },
      "source": [
        "The utility function can be found by `pomdp_value_iteration`.\n",
        "<br>\n",
        "To summarize, it generates a set of all plans consisting of an action and, for each possible next percept, a plan in U with computed utility vectors.\n",
        "The dominated plans are then removed from this set and the process is repeated till the maximum difference between the utility functions of two consecutive iterations reaches a value less than a threshold value."
      ]
    },
    {
      "cell_type": "code",
      "execution_count": null,
      "metadata": {
        "id": "9JYlc2kuZUp8",
        "outputId": "d3f8d1e9-828f-4763-b25f-659879f998bb"
      },
      "outputs": [
        {
          "data": {
            "text/markdown": [
              "### AIMA3e\n",
              "__function__ POMDP-VALUE-ITERATION(_pomdp_, _&epsi;_) __returns__ a utility function  \n",
              "&emsp;__inputs__: _pomdp_, a POMDP with states _S_, actions _A_(_s_), transition model _P_(_s&prime;_ &vert; _s_, _a_),  \n",
              "&emsp;&emsp;&emsp;&emsp;&emsp;&emsp;sensor model _P_(_e_ &vert; _s_), rewards _R_(_s_), discount _&gamma;_  \n",
              "&emsp;&emsp;&emsp;&emsp;&emsp;_&epsi;_, the maximum error allowed in the utility of any state  \n",
              "&emsp;__local variables__: _U_, _U&prime;_, sets of plans _p_ with associated utility vectors _&alpha;<sub>p</sub>_  \n",
              "\n",
              "&emsp;_U&prime;_ &larr; a set containing just the empty plan \\[\\], with _&alpha;<sub>\\[\\]</sub>_(_s_) = _R_(_s_)  \n",
              "&emsp;__repeat__  \n",
              "&emsp;&emsp;&emsp;_U_ &larr; _U&prime;_  \n",
              "&emsp;&emsp;&emsp;_U&prime;_ &larr; the set of all plans consisting of an action and, for each possible next percept,  \n",
              "&emsp;&emsp;&emsp;&emsp;&emsp;a plan in _U_ with utility vectors computed according to Equation(__??__)  \n",
              "&emsp;&emsp;&emsp;_U&prime;_ &larr; REMOVE\\-DOMINATED\\-PLANS(_U&prime;_)  \n",
              "&emsp;__until__ MAX\\-DIFFERENCE(_U_, _U&prime;_) &lt; _&epsi;_(1 &minus; _&gamma;_) &frasl; _&gamma;_  \n",
              "&emsp;__return__ _U_  \n",
              "\n",
              "---\n",
              "__Figure ??__ A high\\-level sketch of the value iteration algorithm for POMDPs. The REMOVE\\-DOMINATED\\-PLANS step and MAX\\-DIFFERENCE test are typically implemented as linear programs."
            ],
            "text/plain": [
              "<IPython.core.display.Markdown object>"
            ]
          },
          "execution_count": 35,
          "metadata": {},
          "output_type": "execute_result"
        }
      ],
      "source": [
        "pseudocode('POMDP-Value-Iteration')"
      ]
    },
    {
      "cell_type": "markdown",
      "metadata": {
        "id": "HlO6GrnLZUp9"
      },
      "source": [
        "Let's have a look at the `pomdp_value_iteration` function."
      ]
    },
    {
      "cell_type": "code",
      "execution_count": null,
      "metadata": {
        "id": "DjFxQuDZZUp9",
        "outputId": "227c2f32-3e9d-4a06-923c-08e706d4e8e1"
      },
      "outputs": [
        {
          "data": {
            "text/html": [
              "<!DOCTYPE html PUBLIC \"-//W3C//DTD HTML 4.01//EN\"\n",
              "   \"http://www.w3.org/TR/html4/strict.dtd\">\n",
              "\n",
              "<html>\n",
              "<head>\n",
              "  <title></title>\n",
              "  <meta http-equiv=\"content-type\" content=\"text/html; charset=None\">\n",
              "  <style type=\"text/css\">\n",
              "td.linenos { background-color: #f0f0f0; padding-right: 10px; }\n",
              "span.lineno { background-color: #f0f0f0; padding: 0 5px 0 5px; }\n",
              "pre { line-height: 125%; }\n",
              "body .hll { background-color: #ffffcc }\n",
              "body  { background: #f8f8f8; }\n",
              "body .c { color: #408080; font-style: italic } /* Comment */\n",
              "body .err { border: 1px solid #FF0000 } /* Error */\n",
              "body .k { color: #008000; font-weight: bold } /* Keyword */\n",
              "body .o { color: #666666 } /* Operator */\n",
              "body .ch { color: #408080; font-style: italic } /* Comment.Hashbang */\n",
              "body .cm { color: #408080; font-style: italic } /* Comment.Multiline */\n",
              "body .cp { color: #BC7A00 } /* Comment.Preproc */\n",
              "body .cpf { color: #408080; font-style: italic } /* Comment.PreprocFile */\n",
              "body .c1 { color: #408080; font-style: italic } /* Comment.Single */\n",
              "body .cs { color: #408080; font-style: italic } /* Comment.Special */\n",
              "body .gd { color: #A00000 } /* Generic.Deleted */\n",
              "body .ge { font-style: italic } /* Generic.Emph */\n",
              "body .gr { color: #FF0000 } /* Generic.Error */\n",
              "body .gh { color: #000080; font-weight: bold } /* Generic.Heading */\n",
              "body .gi { color: #00A000 } /* Generic.Inserted */\n",
              "body .go { color: #888888 } /* Generic.Output */\n",
              "body .gp { color: #000080; font-weight: bold } /* Generic.Prompt */\n",
              "body .gs { font-weight: bold } /* Generic.Strong */\n",
              "body .gu { color: #800080; font-weight: bold } /* Generic.Subheading */\n",
              "body .gt { color: #0044DD } /* Generic.Traceback */\n",
              "body .kc { color: #008000; font-weight: bold } /* Keyword.Constant */\n",
              "body .kd { color: #008000; font-weight: bold } /* Keyword.Declaration */\n",
              "body .kn { color: #008000; font-weight: bold } /* Keyword.Namespace */\n",
              "body .kp { color: #008000 } /* Keyword.Pseudo */\n",
              "body .kr { color: #008000; font-weight: bold } /* Keyword.Reserved */\n",
              "body .kt { color: #B00040 } /* Keyword.Type */\n",
              "body .m { color: #666666 } /* Literal.Number */\n",
              "body .s { color: #BA2121 } /* Literal.String */\n",
              "body .na { color: #7D9029 } /* Name.Attribute */\n",
              "body .nb { color: #008000 } /* Name.Builtin */\n",
              "body .nc { color: #0000FF; font-weight: bold } /* Name.Class */\n",
              "body .no { color: #880000 } /* Name.Constant */\n",
              "body .nd { color: #AA22FF } /* Name.Decorator */\n",
              "body .ni { color: #999999; font-weight: bold } /* Name.Entity */\n",
              "body .ne { color: #D2413A; font-weight: bold } /* Name.Exception */\n",
              "body .nf { color: #0000FF } /* Name.Function */\n",
              "body .nl { color: #A0A000 } /* Name.Label */\n",
              "body .nn { color: #0000FF; font-weight: bold } /* Name.Namespace */\n",
              "body .nt { color: #008000; font-weight: bold } /* Name.Tag */\n",
              "body .nv { color: #19177C } /* Name.Variable */\n",
              "body .ow { color: #AA22FF; font-weight: bold } /* Operator.Word */\n",
              "body .w { color: #bbbbbb } /* Text.Whitespace */\n",
              "body .mb { color: #666666 } /* Literal.Number.Bin */\n",
              "body .mf { color: #666666 } /* Literal.Number.Float */\n",
              "body .mh { color: #666666 } /* Literal.Number.Hex */\n",
              "body .mi { color: #666666 } /* Literal.Number.Integer */\n",
              "body .mo { color: #666666 } /* Literal.Number.Oct */\n",
              "body .sa { color: #BA2121 } /* Literal.String.Affix */\n",
              "body .sb { color: #BA2121 } /* Literal.String.Backtick */\n",
              "body .sc { color: #BA2121 } /* Literal.String.Char */\n",
              "body .dl { color: #BA2121 } /* Literal.String.Delimiter */\n",
              "body .sd { color: #BA2121; font-style: italic } /* Literal.String.Doc */\n",
              "body .s2 { color: #BA2121 } /* Literal.String.Double */\n",
              "body .se { color: #BB6622; font-weight: bold } /* Literal.String.Escape */\n",
              "body .sh { color: #BA2121 } /* Literal.String.Heredoc */\n",
              "body .si { color: #BB6688; font-weight: bold } /* Literal.String.Interpol */\n",
              "body .sx { color: #008000 } /* Literal.String.Other */\n",
              "body .sr { color: #BB6688 } /* Literal.String.Regex */\n",
              "body .s1 { color: #BA2121 } /* Literal.String.Single */\n",
              "body .ss { color: #19177C } /* Literal.String.Symbol */\n",
              "body .bp { color: #008000 } /* Name.Builtin.Pseudo */\n",
              "body .fm { color: #0000FF } /* Name.Function.Magic */\n",
              "body .vc { color: #19177C } /* Name.Variable.Class */\n",
              "body .vg { color: #19177C } /* Name.Variable.Global */\n",
              "body .vi { color: #19177C } /* Name.Variable.Instance */\n",
              "body .vm { color: #19177C } /* Name.Variable.Magic */\n",
              "body .il { color: #666666 } /* Literal.Number.Integer.Long */\n",
              "\n",
              "  </style>\n",
              "</head>\n",
              "<body>\n",
              "<h2></h2>\n",
              "\n",
              "<div class=\"highlight\"><pre><span></span><span class=\"k\">def</span> <span class=\"nf\">pomdp_value_iteration</span><span class=\"p\">(</span><span class=\"n\">pomdp</span><span class=\"p\">,</span> <span class=\"n\">epsilon</span><span class=\"o\">=</span><span class=\"mf\">0.1</span><span class=\"p\">):</span>\n",
              "    <span class=\"sd\">&quot;&quot;&quot;Solving a POMDP by value iteration.&quot;&quot;&quot;</span>\n",
              "\n",
              "    <span class=\"n\">U</span> <span class=\"o\">=</span> <span class=\"p\">{</span><span class=\"s1\">&#39;&#39;</span><span class=\"p\">:[[</span><span class=\"mi\">0</span><span class=\"p\">]</span><span class=\"o\">*</span> <span class=\"nb\">len</span><span class=\"p\">(</span><span class=\"n\">pomdp</span><span class=\"o\">.</span><span class=\"n\">states</span><span class=\"p\">)]}</span>\n",
              "    <span class=\"n\">count</span> <span class=\"o\">=</span> <span class=\"mi\">0</span>\n",
              "    <span class=\"k\">while</span> <span class=\"bp\">True</span><span class=\"p\">:</span>\n",
              "        <span class=\"n\">count</span> <span class=\"o\">+=</span> <span class=\"mi\">1</span>\n",
              "        <span class=\"n\">prev_U</span> <span class=\"o\">=</span> <span class=\"n\">U</span>\n",
              "        <span class=\"n\">values</span> <span class=\"o\">=</span> <span class=\"p\">[</span><span class=\"n\">val</span> <span class=\"k\">for</span> <span class=\"n\">action</span> <span class=\"ow\">in</span> <span class=\"n\">U</span> <span class=\"k\">for</span> <span class=\"n\">val</span> <span class=\"ow\">in</span> <span class=\"n\">U</span><span class=\"p\">[</span><span class=\"n\">action</span><span class=\"p\">]]</span>\n",
              "        <span class=\"n\">value_matxs</span> <span class=\"o\">=</span> <span class=\"p\">[]</span>\n",
              "        <span class=\"k\">for</span> <span class=\"n\">i</span> <span class=\"ow\">in</span> <span class=\"n\">values</span><span class=\"p\">:</span>\n",
              "            <span class=\"k\">for</span> <span class=\"n\">j</span> <span class=\"ow\">in</span> <span class=\"n\">values</span><span class=\"p\">:</span>\n",
              "                <span class=\"n\">value_matxs</span><span class=\"o\">.</span><span class=\"n\">append</span><span class=\"p\">([</span><span class=\"n\">i</span><span class=\"p\">,</span> <span class=\"n\">j</span><span class=\"p\">])</span>\n",
              "\n",
              "        <span class=\"n\">U1</span> <span class=\"o\">=</span> <span class=\"n\">defaultdict</span><span class=\"p\">(</span><span class=\"nb\">list</span><span class=\"p\">)</span>\n",
              "        <span class=\"k\">for</span> <span class=\"n\">action</span> <span class=\"ow\">in</span> <span class=\"n\">pomdp</span><span class=\"o\">.</span><span class=\"n\">actions</span><span class=\"p\">:</span>\n",
              "            <span class=\"k\">for</span> <span class=\"n\">u</span> <span class=\"ow\">in</span> <span class=\"n\">value_matxs</span><span class=\"p\">:</span>\n",
              "                <span class=\"n\">u1</span> <span class=\"o\">=</span> <span class=\"n\">Matrix</span><span class=\"o\">.</span><span class=\"n\">matmul</span><span class=\"p\">(</span><span class=\"n\">Matrix</span><span class=\"o\">.</span><span class=\"n\">matmul</span><span class=\"p\">(</span><span class=\"n\">pomdp</span><span class=\"o\">.</span><span class=\"n\">t_prob</span><span class=\"p\">[</span><span class=\"nb\">int</span><span class=\"p\">(</span><span class=\"n\">action</span><span class=\"p\">)],</span> <span class=\"n\">Matrix</span><span class=\"o\">.</span><span class=\"n\">multiply</span><span class=\"p\">(</span><span class=\"n\">pomdp</span><span class=\"o\">.</span><span class=\"n\">e_prob</span><span class=\"p\">[</span><span class=\"nb\">int</span><span class=\"p\">(</span><span class=\"n\">action</span><span class=\"p\">)],</span> <span class=\"n\">Matrix</span><span class=\"o\">.</span><span class=\"n\">transpose</span><span class=\"p\">(</span><span class=\"n\">u</span><span class=\"p\">))),</span> <span class=\"p\">[[</span><span class=\"mi\">1</span><span class=\"p\">],</span> <span class=\"p\">[</span><span class=\"mi\">1</span><span class=\"p\">]])</span>\n",
              "                <span class=\"n\">u1</span> <span class=\"o\">=</span> <span class=\"n\">Matrix</span><span class=\"o\">.</span><span class=\"n\">add</span><span class=\"p\">(</span><span class=\"n\">Matrix</span><span class=\"o\">.</span><span class=\"n\">scalar_multiply</span><span class=\"p\">(</span><span class=\"n\">pomdp</span><span class=\"o\">.</span><span class=\"n\">gamma</span><span class=\"p\">,</span> <span class=\"n\">Matrix</span><span class=\"o\">.</span><span class=\"n\">transpose</span><span class=\"p\">(</span><span class=\"n\">u1</span><span class=\"p\">)),</span> <span class=\"p\">[</span><span class=\"n\">pomdp</span><span class=\"o\">.</span><span class=\"n\">rewards</span><span class=\"p\">[</span><span class=\"nb\">int</span><span class=\"p\">(</span><span class=\"n\">action</span><span class=\"p\">)]])</span>\n",
              "                <span class=\"n\">U1</span><span class=\"p\">[</span><span class=\"n\">action</span><span class=\"p\">]</span><span class=\"o\">.</span><span class=\"n\">append</span><span class=\"p\">(</span><span class=\"n\">u1</span><span class=\"p\">[</span><span class=\"mi\">0</span><span class=\"p\">])</span>\n",
              "\n",
              "        <span class=\"n\">U</span> <span class=\"o\">=</span> <span class=\"n\">pomdp</span><span class=\"o\">.</span><span class=\"n\">remove_dominated_plans_fast</span><span class=\"p\">(</span><span class=\"n\">U1</span><span class=\"p\">)</span>\n",
              "        <span class=\"c1\"># replace with U = pomdp.remove_dominated_plans(U1) for accurate calculations</span>\n",
              "        \n",
              "        <span class=\"k\">if</span> <span class=\"n\">count</span> <span class=\"o\">&gt;</span> <span class=\"mi\">10</span><span class=\"p\">:</span>\n",
              "            <span class=\"k\">if</span> <span class=\"n\">pomdp</span><span class=\"o\">.</span><span class=\"n\">max_difference</span><span class=\"p\">(</span><span class=\"n\">U</span><span class=\"p\">,</span> <span class=\"n\">prev_U</span><span class=\"p\">)</span> <span class=\"o\">&lt;</span> <span class=\"n\">epsilon</span> <span class=\"o\">*</span> <span class=\"p\">(</span><span class=\"mi\">1</span> <span class=\"o\">-</span> <span class=\"n\">pomdp</span><span class=\"o\">.</span><span class=\"n\">gamma</span><span class=\"p\">)</span> <span class=\"o\">/</span> <span class=\"n\">pomdp</span><span class=\"o\">.</span><span class=\"n\">gamma</span><span class=\"p\">:</span>\n",
              "                <span class=\"k\">return</span> <span class=\"n\">U</span>\n",
              "</pre></div>\n",
              "</body>\n",
              "</html>\n"
            ],
            "text/plain": [
              "<IPython.core.display.HTML object>"
            ]
          },
          "metadata": {},
          "output_type": "display_data"
        }
      ],
      "source": [
        "psource(pomdp_value_iteration)"
      ]
    },
    {
      "cell_type": "markdown",
      "metadata": {
        "id": "X1qqEHOvZUp-"
      },
      "source": [
        "This function uses two aptly named helper methods from the `POMDP` class, `remove_dominated_plans` and `max_difference`."
      ]
    },
    {
      "cell_type": "markdown",
      "metadata": {
        "id": "_6NoQpKHZUp-"
      },
      "source": [
        "Let's try solving a simple one-dimensional POMDP using value-iteration.\n",
        "<br>\n",
        "Consider the problem of a user listening to voicemails.\n",
        "At the end of each message, they can either _save_ or _delete_ a message.\n",
        "This forms the unobservable state _S = {save, delete}_.\n",
        "It is the task of the POMDP solver to guess which goal the user has.\n",
        "<br>\n",
        "The belief space has two elements, _b(s = save)_ and _b(s = delete)_.\n",
        "For example, for the belief state _b = (1, 0)_, the left end of the line segment indicates _b(s = save) = 1_ and _b(s = delete) = 0_.\n",
        "The intermediate points represent varying degrees of certainty in the user's goal.\n",
        "<br>\n",
        "The machine has three available actions: it can _ask_ what the user wishes to do in order to infer his or her current goal, or it can _doSave_ or _doDelete_ and move to the next message.\n",
        "If the user says _save_, then an error may occur with probability 0.2, whereas if the user says _delete_, an error may occur with a probability 0.3.\n",
        "<br>\n",
        "The machine receives a large positive reward (+5) for getting the user's goal correct, a very large negative reward (-20) for taking the action _doDelete_ when the user wanted _save_, and a smaller but still significant negative reward (-10) for taking the action _doSave_ when the user wanted _delete_.\n",
        "There is also a small negative reward for taking the _ask_ action (-1).\n",
        "The discount factor is set to 0.95 for this example.\n",
        "<br>\n",
        "Let's define the POMDP."
      ]
    },
    {
      "cell_type": "code",
      "execution_count": null,
      "metadata": {
        "id": "CsZtlQmZZUp-"
      },
      "outputs": [],
      "source": [
        "# transition function P(s'|s,a)\n",
        "t_prob = [[[0.65, 0.35], [0.65, 0.35]], [[0.65, 0.35], [0.65, 0.35]], [[1.0, 0.0], [0.0, 1.0]]]\n",
        "# evidence function P(e|s)\n",
        "e_prob = [[[0.5, 0.5], [0.5, 0.5]], [[0.5, 0.5], [0.5, 0.5]], [[0.8, 0.2], [0.3, 0.7]]]\n",
        "# reward function\n",
        "rewards = [[5, -10], [-20, 5], [-1, -1]]\n",
        "\n",
        "gamma = 0.95\n",
        "actions = ('0', '1', '2')\n",
        "states = ('0', '1')\n",
        "\n",
        "pomdp = POMDP(actions, t_prob, e_prob, rewards, states, gamma)"
      ]
    },
    {
      "cell_type": "markdown",
      "metadata": {
        "id": "6i6aoZkOZUp-"
      },
      "source": [
        "We have defined the `POMDP` object.\n",
        "Let's run `pomdp_value_iteration` to find the utility function."
      ]
    },
    {
      "cell_type": "code",
      "execution_count": null,
      "metadata": {
        "id": "KgbwqGajZUp_"
      },
      "outputs": [],
      "source": [
        "utility = pomdp_value_iteration(pomdp, epsilon=0.1)"
      ]
    },
    {
      "cell_type": "code",
      "execution_count": null,
      "metadata": {
        "id": "J9BWf0P_ZUp_",
        "outputId": "32e6d4b8-6cd2-4f8f-e4de-046744fda497"
      },
      "outputs": [
        {
          "data": {
            "image/png": "[encoded data removed]",
            "text/plain": [
              "<matplotlib.figure.Figure at 0x2f41e659e80>"
            ]
          },
          "metadata": {},
          "output_type": "display_data"
        }
      ],
      "source": [
        "%matplotlib inline\n",
        "plot_pomdp_utility(utility)"
      ]
    },
    {
      "cell_type": "markdown",
      "metadata": {
        "id": "fC518UvQZUp_"
      },
      "source": [
        "---\n",
        "## Appendix\n",
        "\n",
        "Surprisingly, it turns out that there are six other optimal policies for various ranges of R(s).\n",
        "You can try to find them out for yourself.\n",
        "See **Exercise 17.5**.\n",
        "To help you with this, we have a GridMDP editor in `grid_mdp.py` in the GUI folder.\n",
        "<br>\n",
        "Here's a brief tutorial about how to use it\n",
        "<br>\n",
        "Let us use it to solve `Case 2` above\n",
        "1. Run `python gui/grid_mdp.py` from the master directory.\n",
        "2. Enter the dimensions of the grid (3 x 4 in this case), and click on `'Build a GridMDP'`\n",
        "3. Click on `Initialize` in the `Edit` menu.\n",
        "4. Set the reward as -0.4 and click `Apply`. Exit the dialog.\n",
        "![title](images/ge0.jpg)\n",
        "<br>\n",
        "5. Select cell (1, 1) and check the `Wall` radio button. `Apply` and exit the dialog.\n",
        "![title](images/ge1.jpg)\n",
        "<br>\n",
        "6. Select cells (4, 1) and (4, 2) and check the `Terminal` radio button for both. Set the rewards appropriately and click on `Apply`. Exit the dialog. Your window should look something like this.\n",
        "![title](images/ge2.jpg)\n",
        "<br>\n",
        "7. You are all set up now. Click on `Build and Run` in the `Build` menu and watch the heatmap calculate the utility function.\n",
        "![title](images/ge4.jpg)\n",
        "<br>\n",
        "Green shades indicate positive utilities and brown shades indicate negative utilities.\n",
        "The values of the utility function and arrow diagram will pop up in separate dialogs after the algorithm converges."
      ]
    }
  ],
  "metadata": {
    "kernelspec": {
      "display_name": "Python 3",
      "language": "python",
      "name": "python3"
    },
    "language_info": {
      "codemirror_mode": {
        "name": "ipython",
        "version": 3
      },
      "file_extension": ".py",
      "mimetype": "text/x-python",
      "name": "python",
      "nbconvert_exporter": "python",
      "pygments_lexer": "ipython3",
      "version": "3.6.4"
    },
    "colab": {
      "provenance": []
    }
  },
  "nbformat": 4,
  "nbformat_minor": 0
}